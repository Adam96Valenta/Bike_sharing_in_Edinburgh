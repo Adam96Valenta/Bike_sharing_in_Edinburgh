{
 "cells": [
  {
   "cell_type": "markdown",
   "id": "9ed22338",
   "metadata": {},
   "source": [
    "# "
   ]
  },
  {
   "cell_type": "markdown",
   "id": "b8c50a17",
   "metadata": {},
   "source": [
    "# Analysis of bike sharing on Edinburgh from Just Eat Cycles"
   ]
  },
  {
   "cell_type": "markdown",
   "id": "0a7a415e",
   "metadata": {},
   "source": [
    "Hi, welcome to my analysis of edinburgh's bike sharing from Just Eat Cycles. \n",
    "\n",
    "I will work with two datasets: edinburgh_bikes and edinburgh_weather\n",
    "and i will try to get answers for this questions:\n",
    "\n",
    "1) Identify active and unactive stations\n",
    "\n",
    "2) Identify of the most frequently stations\n",
    "\n",
    "3) Identify difference between rented and returned of bikes on stations\n",
    "\n",
    "4) Calculate distances between particular stations\n",
    "\n",
    "5) What is the usual duration of bike rent?\n",
    "\n",
    "6) Development of demand for bicycle rental over time\n",
    "\n",
    "7) Identify the causes of demand fluctuations\n",
    "\n",
    "8) Influence of weather on demand\n",
    "\n",
    "9) Demand for bike lending by the days of week and  the months\n",
    "\n",
    "So, let' s get started."
   ]
  },
  {
   "cell_type": "markdown",
   "id": "eb78a94c",
   "metadata": {},
   "source": [
    "# Importing the libraries"
   ]
  },
  {
   "cell_type": "code",
   "execution_count": 688,
   "id": "72ea9432",
   "metadata": {},
   "outputs": [],
   "source": [
    "import pandas as pd\n",
    "import numpy as np\n",
    "import sqlalchemy\n",
    "import datetime as dt\n",
    "import matplotlib.pyplot as plt\n",
    "import matplotlib.dates as mdates\n",
    "import seaborn as sns\n",
    "import plotly.graph_objects as go\n",
    "import plotly.express as px"
   ]
  },
  {
   "cell_type": "markdown",
   "id": "41b4314e",
   "metadata": {},
   "source": [
    "# Loading the datasets from csv files"
   ]
  },
  {
   "cell_type": "code",
   "execution_count": 689,
   "id": "a5a3b84d",
   "metadata": {},
   "outputs": [],
   "source": [
    "edinburgh_bikes_df = pd.read_csv('edinburgh_bikes.csv', index_col=[0])\n",
    "edinburgh_weather_df = pd.read_csv('edinburgh_weather.csv', index_col=[0])"
   ]
  },
  {
   "cell_type": "markdown",
   "id": "4a02382e",
   "metadata": {},
   "source": [
    "# The first looks on edinburg_bikes dataset "
   ]
  },
  {
   "cell_type": "code",
   "execution_count": 690,
   "id": "4602357e",
   "metadata": {},
   "outputs": [
    {
     "data": {
      "text/html": [
       "<div>\n",
       "<style scoped>\n",
       "    .dataframe tbody tr th:only-of-type {\n",
       "        vertical-align: middle;\n",
       "    }\n",
       "\n",
       "    .dataframe tbody tr th {\n",
       "        vertical-align: top;\n",
       "    }\n",
       "\n",
       "    .dataframe thead th {\n",
       "        text-align: right;\n",
       "    }\n",
       "</style>\n",
       "<table border=\"1\" class=\"dataframe\">\n",
       "  <thead>\n",
       "    <tr style=\"text-align: right;\">\n",
       "      <th></th>\n",
       "      <th>index</th>\n",
       "      <th>started_at</th>\n",
       "      <th>ended_at</th>\n",
       "      <th>duration</th>\n",
       "      <th>start_station_id</th>\n",
       "      <th>start_station_name</th>\n",
       "      <th>start_station_description</th>\n",
       "      <th>start_station_latitude</th>\n",
       "      <th>start_station_longitude</th>\n",
       "      <th>end_station_id</th>\n",
       "      <th>end_station_name</th>\n",
       "      <th>end_station_description</th>\n",
       "      <th>end_station_latitude</th>\n",
       "      <th>end_station_longitude</th>\n",
       "    </tr>\n",
       "  </thead>\n",
       "  <tbody>\n",
       "    <tr>\n",
       "      <th>0</th>\n",
       "      <td>0</td>\n",
       "      <td>2018-09-15 08:52:05</td>\n",
       "      <td>2018-09-15 09:11:48</td>\n",
       "      <td>1182</td>\n",
       "      <td>247</td>\n",
       "      <td>Charlotte Square</td>\n",
       "      <td>North Corner of Charlotte Square</td>\n",
       "      <td>55.952335</td>\n",
       "      <td>-3.207101</td>\n",
       "      <td>259</td>\n",
       "      <td>St Andrew Square</td>\n",
       "      <td>North East corner</td>\n",
       "      <td>55.954728</td>\n",
       "      <td>-3.192653</td>\n",
       "    </tr>\n",
       "    <tr>\n",
       "      <th>1</th>\n",
       "      <td>1</td>\n",
       "      <td>2018-09-15 09:24:33</td>\n",
       "      <td>2018-09-15 09:41:09</td>\n",
       "      <td>995</td>\n",
       "      <td>259</td>\n",
       "      <td>St Andrew Square</td>\n",
       "      <td>North East corner</td>\n",
       "      <td>55.954749</td>\n",
       "      <td>-3.192774</td>\n",
       "      <td>262</td>\n",
       "      <td>Canonmills</td>\n",
       "      <td>near Tesco's</td>\n",
       "      <td>55.962804</td>\n",
       "      <td>-3.196284</td>\n",
       "    </tr>\n",
       "    <tr>\n",
       "      <th>2</th>\n",
       "      <td>2</td>\n",
       "      <td>2018-09-15 09:48:54</td>\n",
       "      <td>2018-09-15 10:46:40</td>\n",
       "      <td>3466</td>\n",
       "      <td>262</td>\n",
       "      <td>Canonmills</td>\n",
       "      <td>near Tesco's</td>\n",
       "      <td>55.962804</td>\n",
       "      <td>-3.196284</td>\n",
       "      <td>250</td>\n",
       "      <td>Victoria Quay</td>\n",
       "      <td>Entrance to Scottish Government Office</td>\n",
       "      <td>55.977638</td>\n",
       "      <td>-3.174116</td>\n",
       "    </tr>\n",
       "    <tr>\n",
       "      <th>3</th>\n",
       "      <td>3</td>\n",
       "      <td>2018-09-16 12:01:36</td>\n",
       "      <td>2018-09-16 12:25:26</td>\n",
       "      <td>1430</td>\n",
       "      <td>255</td>\n",
       "      <td>Kings Buildings 4</td>\n",
       "      <td>X-Y Cafe</td>\n",
       "      <td>55.922001</td>\n",
       "      <td>-3.176902</td>\n",
       "      <td>254</td>\n",
       "      <td>Kings Building 3</td>\n",
       "      <td>Kings Building House</td>\n",
       "      <td>55.923479</td>\n",
       "      <td>-3.175385</td>\n",
       "    </tr>\n",
       "    <tr>\n",
       "      <th>4</th>\n",
       "      <td>4</td>\n",
       "      <td>2018-09-16 12:03:43</td>\n",
       "      <td>2018-09-16 12:11:16</td>\n",
       "      <td>452</td>\n",
       "      <td>255</td>\n",
       "      <td>Kings Buildings 4</td>\n",
       "      <td>X-Y Cafe</td>\n",
       "      <td>55.922001</td>\n",
       "      <td>-3.176902</td>\n",
       "      <td>253</td>\n",
       "      <td>Kings Building 2</td>\n",
       "      <td>Sanderson Building</td>\n",
       "      <td>55.923202</td>\n",
       "      <td>-3.171646</td>\n",
       "    </tr>\n",
       "    <tr>\n",
       "      <th>...</th>\n",
       "      <td>...</td>\n",
       "      <td>...</td>\n",
       "      <td>...</td>\n",
       "      <td>...</td>\n",
       "      <td>...</td>\n",
       "      <td>...</td>\n",
       "      <td>...</td>\n",
       "      <td>...</td>\n",
       "      <td>...</td>\n",
       "      <td>...</td>\n",
       "      <td>...</td>\n",
       "      <td>...</td>\n",
       "      <td>...</td>\n",
       "      <td>...</td>\n",
       "    </tr>\n",
       "    <tr>\n",
       "      <th>438254</th>\n",
       "      <td>12636</td>\n",
       "      <td>2021-06-30 23:30:31</td>\n",
       "      <td>2021-07-01 00:06:10</td>\n",
       "      <td>2139</td>\n",
       "      <td>1090</td>\n",
       "      <td>Hillside Crescent</td>\n",
       "      <td>East end of Hillside Crescent</td>\n",
       "      <td>55.957872</td>\n",
       "      <td>-3.175888</td>\n",
       "      <td>1728</td>\n",
       "      <td>Portobello - Kings Road</td>\n",
       "      <td>Foot of Kings Road next to the promenade</td>\n",
       "      <td>55.957915</td>\n",
       "      <td>-3.118332</td>\n",
       "    </tr>\n",
       "    <tr>\n",
       "      <th>438255</th>\n",
       "      <td>12637</td>\n",
       "      <td>2021-06-30 23:36:16</td>\n",
       "      <td>2021-07-01 00:05:40</td>\n",
       "      <td>1763</td>\n",
       "      <td>1814</td>\n",
       "      <td>Abbeyhill</td>\n",
       "      <td>Near Abbey Mount</td>\n",
       "      <td>55.955248</td>\n",
       "      <td>-3.172216</td>\n",
       "      <td>1728</td>\n",
       "      <td>Portobello - Kings Road</td>\n",
       "      <td>Foot of Kings Road next to the promenade</td>\n",
       "      <td>55.957915</td>\n",
       "      <td>-3.118332</td>\n",
       "    </tr>\n",
       "    <tr>\n",
       "      <th>438256</th>\n",
       "      <td>12638</td>\n",
       "      <td>2021-06-30 23:49:03</td>\n",
       "      <td>2021-07-01 00:11:25</td>\n",
       "      <td>1342</td>\n",
       "      <td>256</td>\n",
       "      <td>St Andrews House</td>\n",
       "      <td>beside Jacobs ladder</td>\n",
       "      <td>55.953164</td>\n",
       "      <td>-3.181682</td>\n",
       "      <td>1091</td>\n",
       "      <td>Holyrood Road</td>\n",
       "      <td>Opposite St Leonards Land</td>\n",
       "      <td>55.949560</td>\n",
       "      <td>-3.180413</td>\n",
       "    </tr>\n",
       "    <tr>\n",
       "      <th>438257</th>\n",
       "      <td>12639</td>\n",
       "      <td>2021-06-30 23:49:03</td>\n",
       "      <td>2021-07-01 00:11:52</td>\n",
       "      <td>1369</td>\n",
       "      <td>256</td>\n",
       "      <td>St Andrews House</td>\n",
       "      <td>beside Jacobs ladder</td>\n",
       "      <td>55.953164</td>\n",
       "      <td>-3.181682</td>\n",
       "      <td>1091</td>\n",
       "      <td>Holyrood Road</td>\n",
       "      <td>Opposite St Leonards Land</td>\n",
       "      <td>55.949560</td>\n",
       "      <td>-3.180413</td>\n",
       "    </tr>\n",
       "    <tr>\n",
       "      <th>438258</th>\n",
       "      <td>12640</td>\n",
       "      <td>2021-06-30 23:58:33</td>\n",
       "      <td>2021-07-01 00:07:15</td>\n",
       "      <td>522</td>\n",
       "      <td>247</td>\n",
       "      <td>Charlotte Square</td>\n",
       "      <td>North Corner of Charlotte Square</td>\n",
       "      <td>55.952335</td>\n",
       "      <td>-3.207101</td>\n",
       "      <td>1769</td>\n",
       "      <td>Brunswick Place</td>\n",
       "      <td>Corner of Elm Row/Brunswick Street</td>\n",
       "      <td>55.960852</td>\n",
       "      <td>-3.180986</td>\n",
       "    </tr>\n",
       "  </tbody>\n",
       "</table>\n",
       "<p>438259 rows × 14 columns</p>\n",
       "</div>"
      ],
      "text/plain": [
       "        index           started_at             ended_at  duration  \\\n",
       "0           0  2018-09-15 08:52:05  2018-09-15 09:11:48      1182   \n",
       "1           1  2018-09-15 09:24:33  2018-09-15 09:41:09       995   \n",
       "2           2  2018-09-15 09:48:54  2018-09-15 10:46:40      3466   \n",
       "3           3  2018-09-16 12:01:36  2018-09-16 12:25:26      1430   \n",
       "4           4  2018-09-16 12:03:43  2018-09-16 12:11:16       452   \n",
       "...       ...                  ...                  ...       ...   \n",
       "438254  12636  2021-06-30 23:30:31  2021-07-01 00:06:10      2139   \n",
       "438255  12637  2021-06-30 23:36:16  2021-07-01 00:05:40      1763   \n",
       "438256  12638  2021-06-30 23:49:03  2021-07-01 00:11:25      1342   \n",
       "438257  12639  2021-06-30 23:49:03  2021-07-01 00:11:52      1369   \n",
       "438258  12640  2021-06-30 23:58:33  2021-07-01 00:07:15       522   \n",
       "\n",
       "        start_station_id start_station_name         start_station_description  \\\n",
       "0                    247   Charlotte Square  North Corner of Charlotte Square   \n",
       "1                    259   St Andrew Square                 North East corner   \n",
       "2                    262         Canonmills                      near Tesco's   \n",
       "3                    255  Kings Buildings 4                          X-Y Cafe   \n",
       "4                    255  Kings Buildings 4                          X-Y Cafe   \n",
       "...                  ...                ...                               ...   \n",
       "438254              1090  Hillside Crescent     East end of Hillside Crescent   \n",
       "438255              1814          Abbeyhill                  Near Abbey Mount   \n",
       "438256               256   St Andrews House              beside Jacobs ladder   \n",
       "438257               256   St Andrews House              beside Jacobs ladder   \n",
       "438258               247   Charlotte Square  North Corner of Charlotte Square   \n",
       "\n",
       "        start_station_latitude  start_station_longitude  end_station_id  \\\n",
       "0                    55.952335                -3.207101             259   \n",
       "1                    55.954749                -3.192774             262   \n",
       "2                    55.962804                -3.196284             250   \n",
       "3                    55.922001                -3.176902             254   \n",
       "4                    55.922001                -3.176902             253   \n",
       "...                        ...                      ...             ...   \n",
       "438254               55.957872                -3.175888            1728   \n",
       "438255               55.955248                -3.172216            1728   \n",
       "438256               55.953164                -3.181682            1091   \n",
       "438257               55.953164                -3.181682            1091   \n",
       "438258               55.952335                -3.207101            1769   \n",
       "\n",
       "               end_station_name                   end_station_description  \\\n",
       "0              St Andrew Square                         North East corner   \n",
       "1                    Canonmills                              near Tesco's   \n",
       "2                 Victoria Quay    Entrance to Scottish Government Office   \n",
       "3              Kings Building 3                      Kings Building House   \n",
       "4              Kings Building 2                        Sanderson Building   \n",
       "...                         ...                                       ...   \n",
       "438254  Portobello - Kings Road  Foot of Kings Road next to the promenade   \n",
       "438255  Portobello - Kings Road  Foot of Kings Road next to the promenade   \n",
       "438256            Holyrood Road                 Opposite St Leonards Land   \n",
       "438257            Holyrood Road                 Opposite St Leonards Land   \n",
       "438258          Brunswick Place        Corner of Elm Row/Brunswick Street   \n",
       "\n",
       "        end_station_latitude  end_station_longitude  \n",
       "0                  55.954728              -3.192653  \n",
       "1                  55.962804              -3.196284  \n",
       "2                  55.977638              -3.174116  \n",
       "3                  55.923479              -3.175385  \n",
       "4                  55.923202              -3.171646  \n",
       "...                      ...                    ...  \n",
       "438254             55.957915              -3.118332  \n",
       "438255             55.957915              -3.118332  \n",
       "438256             55.949560              -3.180413  \n",
       "438257             55.949560              -3.180413  \n",
       "438258             55.960852              -3.180986  \n",
       "\n",
       "[438259 rows x 14 columns]"
      ]
     },
     "execution_count": 690,
     "metadata": {},
     "output_type": "execute_result"
    }
   ],
   "source": [
    "edinburgh_bikes_df"
   ]
  },
  {
   "cell_type": "markdown",
   "id": "02b9913a",
   "metadata": {},
   "source": [
    "Now i using .info() method for finding a useful informations about the DataFrame. "
   ]
  },
  {
   "cell_type": "code",
   "execution_count": 691,
   "id": "2a8456a7",
   "metadata": {
    "scrolled": true
   },
   "outputs": [
    {
     "name": "stdout",
     "output_type": "stream",
     "text": [
      "<class 'pandas.core.frame.DataFrame'>\n",
      "Int64Index: 438259 entries, 0 to 438258\n",
      "Data columns (total 14 columns):\n",
      " #   Column                     Non-Null Count   Dtype  \n",
      "---  ------                     --------------   -----  \n",
      " 0   index                      438259 non-null  int64  \n",
      " 1   started_at                 438259 non-null  object \n",
      " 2   ended_at                   438259 non-null  object \n",
      " 3   duration                   438259 non-null  int64  \n",
      " 4   start_station_id           438259 non-null  int64  \n",
      " 5   start_station_name         438259 non-null  object \n",
      " 6   start_station_description  434118 non-null  object \n",
      " 7   start_station_latitude     438259 non-null  float64\n",
      " 8   start_station_longitude    438259 non-null  float64\n",
      " 9   end_station_id             438259 non-null  int64  \n",
      " 10  end_station_name           438259 non-null  object \n",
      " 11  end_station_description    433570 non-null  object \n",
      " 12  end_station_latitude       438259 non-null  float64\n",
      " 13  end_station_longitude      438259 non-null  float64\n",
      "dtypes: float64(4), int64(4), object(6)\n",
      "memory usage: 50.2+ MB\n"
     ]
    }
   ],
   "source": [
    "edinburgh_bikes_df.info()"
   ]
  },
  {
   "cell_type": "markdown",
   "id": "18eafab4",
   "metadata": {},
   "source": [
    "Finding how many null values are in each columns."
   ]
  },
  {
   "cell_type": "code",
   "execution_count": 692,
   "id": "0f69c83f",
   "metadata": {
    "scrolled": true
   },
   "outputs": [
    {
     "data": {
      "text/plain": [
       "index                           0\n",
       "started_at                      0\n",
       "ended_at                        0\n",
       "duration                        0\n",
       "start_station_id                0\n",
       "start_station_name              0\n",
       "start_station_description    4141\n",
       "start_station_latitude          0\n",
       "start_station_longitude         0\n",
       "end_station_id                  0\n",
       "end_station_name                0\n",
       "end_station_description      4689\n",
       "end_station_latitude            0\n",
       "end_station_longitude           0\n",
       "dtype: int64"
      ]
     },
     "execution_count": 692,
     "metadata": {},
     "output_type": "execute_result"
    }
   ],
   "source": [
    "edinburgh_bikes_df.isna().sum()"
   ]
  },
  {
   "cell_type": "markdown",
   "id": "98243a9f",
   "metadata": {},
   "source": [
    "Null values are locate in two columns, start_station_description and end_station_description. This columns is not important for analysis so we can change null values on 'Unknown' and keep all of rows from DataFrame."
   ]
  },
  {
   "cell_type": "code",
   "execution_count": 693,
   "id": "4ca369b5",
   "metadata": {},
   "outputs": [
    {
     "data": {
      "text/plain": [
       "index                        0\n",
       "started_at                   0\n",
       "ended_at                     0\n",
       "duration                     0\n",
       "start_station_id             0\n",
       "start_station_name           0\n",
       "start_station_description    0\n",
       "start_station_latitude       0\n",
       "start_station_longitude      0\n",
       "end_station_id               0\n",
       "end_station_name             0\n",
       "end_station_description      0\n",
       "end_station_latitude         0\n",
       "end_station_longitude        0\n",
       "dtype: int64"
      ]
     },
     "execution_count": 693,
     "metadata": {},
     "output_type": "execute_result"
    }
   ],
   "source": [
    "edinburgh_bikes_df = edinburgh_bikes_df.fillna('Unknown')\n",
    "edinburgh_bikes_df.isna().sum()"
   ]
  },
  {
   "cell_type": "markdown",
   "id": "43075ef6",
   "metadata": {},
   "source": [
    "# Preparing data for another work"
   ]
  },
  {
   "cell_type": "markdown",
   "id": "de7c5671",
   "metadata": {},
   "source": [
    "For getting answer for next four questions need data about all of stations ( start_station and end_station) in one column.\n",
    "\n",
    "When i worked with data i find how work station_id. So station_id is different for every geographic coordinates, but if some station changed name, station_id stayed same. So i had to group stations by station_id and select the newest name station.\n",
    "\n",
    "After grouping all stations by station_id i getting a 200 stations.\n",
    "\n",
    "For this stations i get informations about  date_of_last_used, started_sum, ended_sum, total_sum, diff (between started and ended summ), station_latitude and station_longitude."
   ]
  },
  {
   "cell_type": "code",
   "execution_count": 694,
   "id": "d270d5d7",
   "metadata": {},
   "outputs": [
    {
     "data": {
      "text/html": [
       "<div>\n",
       "<style scoped>\n",
       "    .dataframe tbody tr th:only-of-type {\n",
       "        vertical-align: middle;\n",
       "    }\n",
       "\n",
       "    .dataframe tbody tr th {\n",
       "        vertical-align: top;\n",
       "    }\n",
       "\n",
       "    .dataframe thead th {\n",
       "        text-align: right;\n",
       "    }\n",
       "</style>\n",
       "<table border=\"1\" class=\"dataframe\">\n",
       "  <thead>\n",
       "    <tr style=\"text-align: right;\">\n",
       "      <th></th>\n",
       "      <th>station_id</th>\n",
       "      <th>station_name</th>\n",
       "      <th>date_of_last_used</th>\n",
       "      <th>started_sum</th>\n",
       "      <th>ended_sum</th>\n",
       "      <th>total_sum</th>\n",
       "      <th>diff</th>\n",
       "      <th>station_latitude</th>\n",
       "      <th>station_longitude</th>\n",
       "    </tr>\n",
       "  </thead>\n",
       "  <tbody>\n",
       "    <tr>\n",
       "      <th>0</th>\n",
       "      <td>171</td>\n",
       "      <td>George Square</td>\n",
       "      <td>2021-06-30</td>\n",
       "      <td>6059.0</td>\n",
       "      <td>6117.0</td>\n",
       "      <td>12176.0</td>\n",
       "      <td>58.0</td>\n",
       "      <td>55.943084</td>\n",
       "      <td>-3.188311</td>\n",
       "    </tr>\n",
       "    <tr>\n",
       "      <th>1</th>\n",
       "      <td>183</td>\n",
       "      <td>Waverley Bridge</td>\n",
       "      <td>2021-06-30</td>\n",
       "      <td>8482.0</td>\n",
       "      <td>8324.0</td>\n",
       "      <td>16806.0</td>\n",
       "      <td>-158.0</td>\n",
       "      <td>55.951981</td>\n",
       "      <td>-3.191890</td>\n",
       "    </tr>\n",
       "    <tr>\n",
       "      <th>2</th>\n",
       "      <td>189</td>\n",
       "      <td>City Chambers</td>\n",
       "      <td>2021-06-30</td>\n",
       "      <td>5804.0</td>\n",
       "      <td>2693.0</td>\n",
       "      <td>8497.0</td>\n",
       "      <td>-3111.0</td>\n",
       "      <td>55.950109</td>\n",
       "      <td>-3.190258</td>\n",
       "    </tr>\n",
       "    <tr>\n",
       "      <th>3</th>\n",
       "      <td>225</td>\n",
       "      <td>Waverley Court</td>\n",
       "      <td>2021-06-29</td>\n",
       "      <td>2519.0</td>\n",
       "      <td>2351.0</td>\n",
       "      <td>4870.0</td>\n",
       "      <td>-168.0</td>\n",
       "      <td>55.951734</td>\n",
       "      <td>-3.184179</td>\n",
       "    </tr>\n",
       "    <tr>\n",
       "      <th>4</th>\n",
       "      <td>241</td>\n",
       "      <td>Depot</td>\n",
       "      <td>2018-09-27</td>\n",
       "      <td>2.0</td>\n",
       "      <td>3.0</td>\n",
       "      <td>5.0</td>\n",
       "      <td>1.0</td>\n",
       "      <td>55.972373</td>\n",
       "      <td>-3.155833</td>\n",
       "    </tr>\n",
       "    <tr>\n",
       "      <th>...</th>\n",
       "      <td>...</td>\n",
       "      <td>...</td>\n",
       "      <td>...</td>\n",
       "      <td>...</td>\n",
       "      <td>...</td>\n",
       "      <td>...</td>\n",
       "      <td>...</td>\n",
       "      <td>...</td>\n",
       "      <td>...</td>\n",
       "    </tr>\n",
       "    <tr>\n",
       "      <th>248</th>\n",
       "      <td>1859</td>\n",
       "      <td>Edinburgh Park Central</td>\n",
       "      <td>2020-12-08</td>\n",
       "      <td>0.0</td>\n",
       "      <td>235.0</td>\n",
       "      <td>235.0</td>\n",
       "      <td>235.0</td>\n",
       "      <td>55.931169</td>\n",
       "      <td>-3.314414</td>\n",
       "    </tr>\n",
       "    <tr>\n",
       "      <th>249</th>\n",
       "      <td>1860</td>\n",
       "      <td>Ingliston Park &amp; Ride</td>\n",
       "      <td>2021-04-21</td>\n",
       "      <td>0.0</td>\n",
       "      <td>221.0</td>\n",
       "      <td>221.0</td>\n",
       "      <td>221.0</td>\n",
       "      <td>55.938792</td>\n",
       "      <td>-3.355556</td>\n",
       "    </tr>\n",
       "    <tr>\n",
       "      <th>250</th>\n",
       "      <td>1864</td>\n",
       "      <td>Borrowman Square</td>\n",
       "      <td>2021-03-18</td>\n",
       "      <td>0.0</td>\n",
       "      <td>546.0</td>\n",
       "      <td>546.0</td>\n",
       "      <td>546.0</td>\n",
       "      <td>55.982606</td>\n",
       "      <td>-3.381455</td>\n",
       "    </tr>\n",
       "    <tr>\n",
       "      <th>252</th>\n",
       "      <td>1869</td>\n",
       "      <td>Hopetoun Road</td>\n",
       "      <td>2021-04-26</td>\n",
       "      <td>0.0</td>\n",
       "      <td>1080.0</td>\n",
       "      <td>1080.0</td>\n",
       "      <td>1080.0</td>\n",
       "      <td>55.990182</td>\n",
       "      <td>-3.404604</td>\n",
       "    </tr>\n",
       "    <tr>\n",
       "      <th>254</th>\n",
       "      <td>1874</td>\n",
       "      <td>Tesco Ferrymuir</td>\n",
       "      <td>2021-04-23</td>\n",
       "      <td>0.0</td>\n",
       "      <td>200.0</td>\n",
       "      <td>200.0</td>\n",
       "      <td>200.0</td>\n",
       "      <td>55.983766</td>\n",
       "      <td>-3.401352</td>\n",
       "    </tr>\n",
       "  </tbody>\n",
       "</table>\n",
       "<p>200 rows × 9 columns</p>\n",
       "</div>"
      ],
      "text/plain": [
       "     station_id            station_name date_of_last_used  started_sum  \\\n",
       "0           171           George Square        2021-06-30       6059.0   \n",
       "1           183         Waverley Bridge        2021-06-30       8482.0   \n",
       "2           189           City Chambers        2021-06-30       5804.0   \n",
       "3           225          Waverley Court        2021-06-29       2519.0   \n",
       "4           241                   Depot        2018-09-27          2.0   \n",
       "..          ...                     ...               ...          ...   \n",
       "248        1859  Edinburgh Park Central        2020-12-08          0.0   \n",
       "249        1860   Ingliston Park & Ride        2021-04-21          0.0   \n",
       "250        1864        Borrowman Square        2021-03-18          0.0   \n",
       "252        1869           Hopetoun Road        2021-04-26          0.0   \n",
       "254        1874         Tesco Ferrymuir        2021-04-23          0.0   \n",
       "\n",
       "     ended_sum  total_sum    diff  station_latitude  station_longitude  \n",
       "0       6117.0    12176.0    58.0         55.943084          -3.188311  \n",
       "1       8324.0    16806.0  -158.0         55.951981          -3.191890  \n",
       "2       2693.0     8497.0 -3111.0         55.950109          -3.190258  \n",
       "3       2351.0     4870.0  -168.0         55.951734          -3.184179  \n",
       "4          3.0        5.0     1.0         55.972373          -3.155833  \n",
       "..         ...        ...     ...               ...                ...  \n",
       "248      235.0      235.0   235.0         55.931169          -3.314414  \n",
       "249      221.0      221.0   221.0         55.938792          -3.355556  \n",
       "250      546.0      546.0   546.0         55.982606          -3.381455  \n",
       "252     1080.0     1080.0  1080.0         55.990182          -3.404604  \n",
       "254      200.0      200.0   200.0         55.983766          -3.401352  \n",
       "\n",
       "[200 rows x 9 columns]"
      ]
     },
     "execution_count": 694,
     "metadata": {},
     "output_type": "execute_result"
    }
   ],
   "source": [
    "edinburgh_bikes_df['date'] = pd.to_datetime(edinburgh_bikes_df['started_at']).dt.date\n",
    "\n",
    "df1 = (edinburgh_bikes_df\n",
    "       .groupby(['start_station_id','started_at'])\n",
    "       ['duration'].count()\n",
    "       .reset_index()\n",
    "      )\n",
    "df1 = (df1\n",
    "       .groupby(['start_station_id'])\n",
    "       [['started_at','duration']].agg({'started_at':'max','duration':'count'})\n",
    "       .reset_index()\n",
    "       .replace(np.nan, dt.date(1900, 1, 1))\n",
    "      )\n",
    "df1 = (pd.merge(\n",
    "        df1,edinburgh_bikes_df,how='left', on=('start_station_id','started_at'))\n",
    "       .rename(columns={'duration_x':'duration'}\n",
    "               ))\n",
    "df1 = (df1[['start_station_id','date','duration','start_station_name','start_station_latitude','start_station_longitude']]\n",
    "       .rename(columns={'start_station_id':'station_id'})\n",
    "      )\n",
    "\n",
    "df2 = (edinburgh_bikes_df\n",
    "       .groupby(['end_station_id','ended_at'])\n",
    "       ['duration'].sum()\n",
    "       .reset_index()\n",
    "      )\n",
    "df2 = (df2\n",
    "       .groupby(['end_station_id'])\n",
    "       [['ended_at','duration']].agg({'ended_at':'max','duration':'count'})\n",
    "       .reset_index()\n",
    "       .replace(np.nan, dt.date(1900, 1, 1))\n",
    "      )\n",
    "df2 = (pd.merge(\n",
    "        df2,edinburgh_bikes_df,how='left', on=('end_station_id','ended_at'))\n",
    "        .rename(columns={'duration_x':'duration'}\n",
    "               ))\n",
    "df2 = (df2[['end_station_id','date','duration','end_station_name','end_station_latitude','end_station_longitude']]\n",
    "       .rename(columns={'end_station_id':'station_id'})\n",
    "      )\n",
    "\n",
    "df3 = pd.merge(df1,df2,how='outer', on=('station_id','date'))\n",
    "df3['rank'] = df3.groupby('station_id')['date'].rank(ascending=False)\n",
    "df3 = df3.query('rank < 2').drop_duplicates()\n",
    "\n",
    "df3['station_name'] = np.where(pd.isnull(df3['start_station_name']),\n",
    "                                         df3['end_station_name'],\n",
    "                                         df3['start_station_name'])\n",
    "df3['station_latitude'] = np.where(pd.isnull(df3['start_station_latitude']),\n",
    "                                             df3['end_station_latitude'],\n",
    "                                             df3['start_station_latitude'])\n",
    "df3['station_longitude'] = np.where(pd.isnull(df3['start_station_longitude']),\n",
    "                                              df3['end_station_longitude'],\n",
    "                                              df3['start_station_longitude'])\n",
    "\n",
    "df3.drop(['start_station_name','start_station_latitude','start_station_longitude',\n",
    "          'end_station_name','end_station_latitude','end_station_longitude','rank'],\n",
    "         axis=1, inplace=True)\n",
    "\n",
    "df3 = df3.fillna(0).rename(columns={'duration_x':'started_sum',\n",
    "                                    'duration_y':'ended_sum',\n",
    "                                    'date':'date_of_last_used'\n",
    "                                   })\n",
    "\n",
    "df3['total_sum'] = df3['started_sum'] + df3['ended_sum']\n",
    "df3['diff'] = df3['ended_sum'] - df3['started_sum']\n",
    "\n",
    "list_of_station = df3[['station_id','station_name','date_of_last_used','started_sum',\n",
    "                       'ended_sum','total_sum','diff','station_latitude','station_longitude']]\n",
    "\n",
    "list_of_station\n",
    "       \n"
   ]
  },
  {
   "cell_type": "markdown",
   "id": "18c8130b",
   "metadata": {},
   "source": [
    "# 1) Identify active and unactive stations"
   ]
  },
  {
   "cell_type": "markdown",
   "id": "6b98cefa",
   "metadata": {},
   "source": [
    "For identify active and unactive stations i will use DataFrame called list_of_station.\n",
    "\n",
    "I am decided for splitting stations on active and unactive station by date of last used. \n",
    "\n",
    "Active stations are station which was use at least once of the last month. Other stations are unactive."
   ]
  },
  {
   "cell_type": "code",
   "execution_count": 695,
   "id": "59aa160f",
   "metadata": {
    "scrolled": true
   },
   "outputs": [],
   "source": [
    "df1 = list_of_station\n",
    "\n",
    "df1 = df1.assign(year = pd.DatetimeIndex(df1['date_of_last_used']).year,\n",
    "           month = pd.DatetimeIndex(df1['date_of_last_used']).month)\n",
    "\n",
    "df1['activity'] = np.where((df1['year'] > 2020) & (df1['month'] > 5), 'yes', 'no')\n",
    "active_station = df1.query('activity == \"yes\"')\n",
    "unactive_station = df1.query('activity == \"no\"')"
   ]
  },
  {
   "cell_type": "markdown",
   "id": "bdf1fb70",
   "metadata": {},
   "source": [
    "Now i creating a new DataFrame with two clomuns (active_stations and unactive_stations). DataFrame will called activity_of_station."
   ]
  },
  {
   "cell_type": "code",
   "execution_count": 696,
   "id": "bb28e341",
   "metadata": {},
   "outputs": [
    {
     "name": "stdout",
     "output_type": "stream",
     "text": [
      "Number of active stations: 88\n",
      "Number of unactive stations: 112\n"
     ]
    },
    {
     "data": {
      "text/html": [
       "<div>\n",
       "<style scoped>\n",
       "    .dataframe tbody tr th:only-of-type {\n",
       "        vertical-align: middle;\n",
       "    }\n",
       "\n",
       "    .dataframe tbody tr th {\n",
       "        vertical-align: top;\n",
       "    }\n",
       "\n",
       "    .dataframe thead th {\n",
       "        text-align: right;\n",
       "    }\n",
       "</style>\n",
       "<table border=\"1\" class=\"dataframe\">\n",
       "  <thead>\n",
       "    <tr style=\"text-align: right;\">\n",
       "      <th></th>\n",
       "      <th>active_station</th>\n",
       "      <th>unactive_station</th>\n",
       "    </tr>\n",
       "  </thead>\n",
       "  <tbody>\n",
       "    <tr>\n",
       "      <th>0</th>\n",
       "      <td>George Square</td>\n",
       "      <td>Depot</td>\n",
       "    </tr>\n",
       "    <tr>\n",
       "      <th>1</th>\n",
       "      <td>Waverley Bridge</td>\n",
       "      <td>Kings Buildings 4</td>\n",
       "    </tr>\n",
       "    <tr>\n",
       "      <th>2</th>\n",
       "      <td>City Chambers</td>\n",
       "      <td>Brunswick Place - Virtual</td>\n",
       "    </tr>\n",
       "    <tr>\n",
       "      <th>3</th>\n",
       "      <td>Waverley Court</td>\n",
       "      <td>Launch Day Event</td>\n",
       "    </tr>\n",
       "    <tr>\n",
       "      <th>4</th>\n",
       "      <td>Royal Commonwealth Pool</td>\n",
       "      <td>Shrubhill</td>\n",
       "    </tr>\n",
       "    <tr>\n",
       "      <th>...</th>\n",
       "      <td>...</td>\n",
       "      <td>...</td>\n",
       "    </tr>\n",
       "    <tr>\n",
       "      <th>107</th>\n",
       "      <td>None</td>\n",
       "      <td>Edinburgh Park Central</td>\n",
       "    </tr>\n",
       "    <tr>\n",
       "      <th>108</th>\n",
       "      <td>None</td>\n",
       "      <td>Ingliston Park &amp; Ride</td>\n",
       "    </tr>\n",
       "    <tr>\n",
       "      <th>109</th>\n",
       "      <td>None</td>\n",
       "      <td>Borrowman Square</td>\n",
       "    </tr>\n",
       "    <tr>\n",
       "      <th>110</th>\n",
       "      <td>None</td>\n",
       "      <td>Hopetoun Road</td>\n",
       "    </tr>\n",
       "    <tr>\n",
       "      <th>111</th>\n",
       "      <td>None</td>\n",
       "      <td>Tesco Ferrymuir</td>\n",
       "    </tr>\n",
       "  </tbody>\n",
       "</table>\n",
       "<p>112 rows × 2 columns</p>\n",
       "</div>"
      ],
      "text/plain": [
       "              active_station           unactive_station\n",
       "0              George Square                      Depot\n",
       "1            Waverley Bridge          Kings Buildings 4\n",
       "2              City Chambers  Brunswick Place - Virtual\n",
       "3             Waverley Court           Launch Day Event\n",
       "4    Royal Commonwealth Pool                  Shrubhill\n",
       "..                       ...                        ...\n",
       "107                     None     Edinburgh Park Central\n",
       "108                     None      Ingliston Park & Ride\n",
       "109                     None           Borrowman Square\n",
       "110                     None              Hopetoun Road\n",
       "111                     None            Tesco Ferrymuir\n",
       "\n",
       "[112 rows x 2 columns]"
      ]
     },
     "execution_count": 696,
     "metadata": {},
     "output_type": "execute_result"
    }
   ],
   "source": [
    "active = active_station['station_name'].array\n",
    "unactive = unactive_station['station_name'].array\n",
    "\n",
    "a = {'active_station':active, 'unactive_station':unactive}\n",
    "activity_of_station = pd.DataFrame.from_dict(a, orient='index')\n",
    "activity_of_station = activity_of_station.transpose()\n",
    "\n",
    "print(f'Number of active stations: {active.shape[0]}')\n",
    "print(f'Number of unactive stations: {unactive.shape[0]}')\n",
    "activity_of_station"
   ]
  },
  {
   "cell_type": "markdown",
   "id": "05d8452b",
   "metadata": {},
   "source": [
    "# Map of stations"
   ]
  },
  {
   "cell_type": "markdown",
   "id": "24f36554",
   "metadata": {},
   "source": [
    "On the map of the stations we can see positions of all the stations. Blue points display an active stations and red points display an unactive station. Size of points derives from a count of bike rent."
   ]
  },
  {
   "cell_type": "code",
   "execution_count": 697,
   "id": "67fabf0f",
   "metadata": {},
   "outputs": [
    {
     "data": {
      "application/vnd.plotly.v1+json": {
       "config": {
        "plotlyServerURL": "https://plot.ly"
       },
       "data": [
        {
         "hovertemplate": "<b>%{hovertext}</b><br><br>activity=yes<br>total_sum=%{marker.size}<br>station_latitude=%{lat}<br>station_longitude=%{lon}<extra></extra>",
         "hovertext": [
          "George Square",
          "Waverley Bridge",
          "City Chambers",
          "Waverley Court",
          "Royal Commonwealth Pool",
          "Charlotte Square",
          "Bristo Square",
          "Fountainbridge",
          "Victoria Quay",
          "Waverley Station",
          "Kings Buildings 1",
          "Kings Building 2",
          "Kings Building 3",
          "St Andrews House",
          "Stockbridge",
          "St Andrew Square",
          "Lauriston Place",
          "Canonmills",
          "Pollock Halls",
          "Meadows East",
          "Castle Street",
          "Castle Terrace",
          "Orchard Brae House",
          "Leith Walk",
          "Crichton Street",
          "Grassmarket",
          "Meadow Place",
          "Dundee Terrace",
          "Hunter Square",
          "South Trinity Road",
          "Lothian Road",
          "Kings Buildings - Murchison House",
          "EICC",
          "Warrender Park Road",
          "Surgeons Hall",
          "Hillside Crescent",
          "Holyrood Road",
          "Dalry Road Lidl",
          "Belford Road",
          "West Crosscauseway",
          "Gladstone Terrace",
          "Marchmont Crescent",
          "Haymarket Station",
          "Dundas Street",
          "Tollcross",
          "Cramond Foreshore",
          "Edinburgh Zoo",
          "Causewayside",
          "Portobello - Kings Road",
          "McDonald Road",
          "East London Street",
          "Pleasance Courtyard",
          "Inverleith Row",
          "Wester Coates Terrace",
          "Edinburgh Royal Infirmary",
          "Morningside Road",
          "Scotland Street",
          "Colinton Road",
          "Murrayfield Tram",
          "Western General Hospital",
          "Meggetland",
          "Queen Margaret University",
          "Comely Bank Road",
          "Haymarket Terrace",
          "Bruntsfield Links",
          "Thirlestane Road",
          "Brunswick Place",
          "Ellersly Road",
          "Chambers Street",
          "Gamekeeper's Road",
          "Milton Road - Edinburgh College",
          "Abbeyhill",
          "Sighthill - Edinburgh College",
          "Dynamic Earth",
          "Heriot Watt - Edinburgh Business School",
          "Heriot Watt - Student Accommodation",
          "Drumsheugh Place",
          "Edinburgh Park Station",
          "Boroughmuir",
          "Duke Street",
          "Leith Walk North",
          "Musselburgh Lidl",
          "Musselburgh Brunton Hall",
          "Picardy Place",
          "Simon Square",
          "Dean Street",
          "Waitrose Comely Bank",
          "Royal Edinburgh Hospital"
         ],
         "lat": [
          55.94308406301113,
          55.951980756193535,
          55.95010933017899,
          55.95173449698344,
          55.93900024788877,
          55.95233546161639,
          55.94583371599285,
          55.94335692764551,
          55.97761715254634,
          55.952641035774384,
          55.92418540667696,
          55.92320215516664,
          55.92347880784664,
          55.95316433242384,
          55.95856558589723,
          55.95490573198223,
          55.94477165233548,
          55.96280408759764,
          55.94008064125911,
          55.939809466328285,
          55.95150073734976,
          55.94676648672239,
          55.95508276879095,
          55.96517649040763,
          55.94478427951007,
          55.947097278583385,
          55.94023763168944,
          55.93970989541296,
          55.94979756563328,
          55.97132539148155,
          55.94740919920712,
          55.92446420087144,
          55.94607055533778,
          55.93836921723555,
          55.94664279961712,
          55.95787194536338,
          55.94955950619123,
          55.94179129688128,
          55.95197357717703,
          55.9438359841253,
          55.93796327344498,
          55.9364319181482,
          55.94556945067266,
          55.9607624081837,
          55.944248052468346,
          55.98003076740317,
          55.94211534619251,
          55.93650603148236,
          55.95791540692348,
          55.9640310527501,
          55.95995414501485,
          55.947490592969416,
          55.96411787988959,
          55.94564841884953,
          55.92135417116336,
          55.927985349796536,
          55.96037972054591,
          55.93341635916104,
          55.94191081116495,
          55.96283984266853,
          55.92758664038103,
          55.931980482636575,
          55.95941012836135,
          55.946063966641006,
          55.937123239991095,
          55.93532370964813,
          55.96085174106396,
          55.945045875212095,
          55.94760044619224,
          55.969442746098885,
          55.94406627599551,
          55.95524788917224,
          55.92668427748757,
          55.951089465236365,
          55.9088228790413,
          55.90841344459825,
          55.95159412232485,
          55.92738267693901,
          55.94007146917616,
          55.96901164826488,
          55.96791807044289,
          55.94388031687606,
          55.94396074176487,
          55.95653524179326,
          55.94485886752089,
          55.957278012740645,
          55.95953624971772,
          55.92781815597736
         ],
         "legendgroup": "yes",
         "lon": [
          -3.188311072722399,
          -3.191890332557903,
          -3.190257770093808,
          -3.18417853540609,
          -3.173923554315593,
          -3.207101172107286,
          -3.189053072075467,
          -3.209247501624645,
          -3.174126319457627,
          -3.187526919462357,
          -3.173830830087809,
          -3.17164624536349,
          -3.175384584907078,
          -3.181682340931843,
          -3.208070182227743,
          -3.192443756949956,
          -3.197265856419562,
          -3.196283585062929,
          -3.171746866852459,
          -3.182738850746432,
          -3.203183906525282,
          -3.202037829055143,
          -3.223634263956455,
          -3.176180170207629,
          -3.186906245433761,
          -3.1972457326126,
          -3.194640214184801,
          -3.220588933667954,
          -3.1877950320129,
          -3.207963567424258,
          -3.205765497136553,
          -3.178731512475451,
          -3.210396331000765,
          -3.198032688546618,
          -3.185474585938891,
          -3.175888370919665,
          -3.180413257527789,
          -3.222415309596499,
          -3.226124804664096,
          -3.184951408497681,
          -3.185021145932069,
          -3.194150044314256,
          -3.21818468327956,
          -3.201278014771333,
          -3.203104599110474,
          -3.300641788832536,
          -3.269286765448441,
          -3.180166347615113,
          -3.118332042090287,
          -3.185175372950425,
          -3.187197758547654,
          -3.181112126101965,
          -3.202094747416367,
          -3.231847150914063,
          -3.136971299254497,
          -3.209749771944871,
          -3.195470336902758,
          -3.21239711224257,
          -3.237800313822617,
          -3.234135938375289,
          -3.23367105304419,
          -3.073104633681168,
          -3.215661360613694,
          -3.223024024359574,
          -3.206431879393449,
          -3.198763443819871,
          -3.180985762469163,
          -3.250881447188249,
          -3.188919736735215,
          -3.307258798472374,
          -3.098561479441612,
          -3.17221628009507,
          -3.289481117121666,
          -3.17572460948655,
          -3.320113285176247,
          -3.328783525816887,
          -3.212354285094022,
          -3.307442444578868,
          -3.215335840688084,
          -3.16739470303429,
          -3.17358629706473,
          -3.066753916217862,
          -3.058306836702485,
          -3.18624761207468,
          -3.182589723460069,
          -3.214285387389054,
          -3.223434402338853,
          -3.213307722203224
         ],
         "marker": {
          "color": "#636efa",
          "size": [
           12176,
           16806,
           8497,
           4870,
           8791,
           13034,
           20597,
           15662,
           25754,
           3363,
           1922,
           8614,
           6130,
           5167,
           14344,
           20445,
           9952,
           21350,
           15949,
           32447,
           16187,
           8755,
           2786,
           18859,
           5358,
           5870,
           20078,
           14100,
           5930,
           10315,
           9395,
           2605,
           5985,
           6418,
           5447,
           8601,
           8108,
           8441,
           2140,
           7504,
           4116,
           3073,
           6251,
           7215,
           10944,
           14412,
           1929,
           8232,
           28327,
           7689,
           6032,
           2757,
           5880,
           4026,
           3098,
           7713,
           5219,
           2163,
           1852,
           4018,
           5027,
           2711,
           6957,
           4814,
           11326,
           3086,
           10672,
           717,
           3608,
           3033,
           2465,
           9883,
           1166,
           10404,
           1846,
           525,
           5375,
           1808,
           8138,
           18442,
           2674,
           1537,
           668,
           3400,
           1680,
           1517,
           2856,
           427
          ],
          "sizemode": "area",
          "sizeref": 144.20888888888888
         },
         "mode": "markers",
         "name": "yes",
         "showlegend": true,
         "subplot": "mapbox",
         "type": "scattermapbox"
        },
        {
         "hovertemplate": "<b>%{hovertext}</b><br><br>activity=no<br>total_sum=%{marker.size}<br>station_latitude=%{lat}<br>station_longitude=%{lon}<extra></extra>",
         "hovertext": [
          "Depot",
          "Kings Buildings 4",
          "Brunswick Place - Virtual",
          "Launch Day Event",
          "Shrubhill",
          "Riego Street",
          "Waitrose, Comely Bank",
          "Leith Links",
          "Bruntsfield links",
          "Meadow Place",
          "Warrender Park Road",
          "Whitehouse Loan",
          "Thirlestane Road",
          "Marchmont Crescent",
          "Colinton Road",
          "Morningside Road",
          "Simon Square",
          "Dalry Road Lidl",
          "Dalry Road Co-op",
          "Dundee Terrace",
          "Gibson Terrace",
          "South Trinity Road",
          "Inverleith Row",
          "Macdonald Road",
          "Causewayside",
          "Novotel",
          "Dudley Gardens",
          "Newkirkgate",
          "Pollock Halls Virtual",
          "Gamekeeper's Road",
          "Whitehouse Road",
          "Comely Bank Road",
          "Dundas Street",
          "Hillside Crescent 1",
          "Hillside Crescent",
          "Corstorphine Road",
          "Edinburgh Zoo",
          "Murrayfield",
          "Murrayfield Avenue",
          "Balgreen",
          "Gladstone Terrace",
          "Logie Green Road",
          "Tollcross",
          "EICC",
          "Queensferry Road",
          "IGMM",
          "Roseburn Street",
          "Crichton Street",
          "Murrayfield Tram",
          "West Crosscauseway",
          "West Newington Place",
          "Dunbar’s Close Garden",
          "Corn Exchange - walk cycle event",
          "Haymarket - Murrayfield Rugby Event",
          "Royal Highland Show - East Gate (19th to 23rd June)",
          "RHC - Edinburgh Festival Camping (05th to 26th August)",
          "Ingliston Park and Ride (19th to 23rd June)",
          "Meadows - Edinburgh Climate Festival",
          "Hunter Square",
          "Constitution Street",
          "Drummond Street",
          "Fountain Court  - Apartments (RESIDENTS ONLY)",
          "Eden Locke - Aparthotel (RESIDENTS ONLY)",
          "Holyrood Park - Woman's Tour Of Scotland (Event 11/08/19)",
          "Queen Margaret University",
          "Pleasance - Edinburgh University Sports Fair",
          "HSBC UK Lets Ride - Meadows Event",
          "Dudley Gardens",
          "Heriot Watt - Edinburgh Business School",
          "Heriot Watt - Student Accomodation (Anna MacLeod Halls)",
          "Crescent House",
          "IGMM - Western General",
          "Craigleith Road",
          "Balgreen Road",
          "Murrayfield",
          "Joppa",
          "Gorgie Road",
          "City Chambers Launch Station",
          "Dalmeny Station",
          "The Loan",
          "Forth Bridge Visitors Centre",
          "Hawes Pier",
          "Scotstoun House",
          "Port Edgar Marina",
          "Virtual Depot",
          "Portobello",
          "Victoria Park",
          "Smarter Travel Station",
          "Ocean Terminal",
          "Royal Infirmary",
          "Depot Virtual",
          "East London Street",
          "Western General",
          "Cramond Foreshore",
          "Craigleith Road",
          "Henderson Row",
          "St. John's Road 1",
          "St. John's Road 2",
          "Corstorphine Road - Pinkhill",
          "Wester Coates Terrace",
          "Sighthill - Edinburgh College",
          "Milton Road - Edinburgh College",
          "Roseburn Street",
          "Fort Kinnaird",
          "Cycling Scotland Conference",
          "Logie Green Road",
          "Corstorphine Road",
          "Edinburgh Park Central",
          "Ingliston Park & Ride",
          "Borrowman Square",
          "Hopetoun Road",
          "Tesco Ferrymuir"
         ],
         "lat": [
          55.97237325804326,
          55.92200087060626,
          55.960929747664,
          55.94255133939095,
          55.96253727246136,
          55.945159896857184,
          55.95950417668882,
          55.96919856910954,
          55.93715871276677,
          55.94030045743447,
          55.938363058645024,
          55.93632904938287,
          55.93536510821717,
          55.93639749674367,
          55.93339776573361,
          55.92798551356313,
          55.944867799682754,
          55.9417543014448,
          55.94271471556419,
          55.93972942415463,
          55.94049262199568,
          55.97126891219085,
          55.96414559786725,
          55.96399515097124,
          55.93642987756881,
          55.94489645971535,
          55.97592062794979,
          55.97070402016615,
          55.94034806856411,
          55.96953169937321,
          55.96152699979099,
          55.95940686974708,
          55.96094446922441,
          55.95791033111316,
          55.957792800284125,
          55.94174288122498,
          55.94211968183478,
          55.94476686576929,
          55.94632179137708,
          55.93893772779211,
          55.93802439880083,
          55.96403450946105,
          55.94428069681837,
          55.94604282192561,
          55.95454278693572,
          55.96248692705142,
          55.94446626439512,
          55.94474957118208,
          55.9419563895648,
          55.94386198333096,
          55.93821225851473,
          55.951813501278245,
          55.92701363904687,
          55.945452213917534,
          55.940906749395,
          55.94065528387753,
          55.93909048596021,
          55.94173596765826,
          55.94969158307013,
          55.9753603829211,
          55.9483365370385,
          55.94380585491596,
          55.95261935955009,
          55.95135352288074,
          55.93193490858167,
          55.94820962824952,
          55.93997775814967,
          55.97593978299806,
          55.90878560997055,
          55.90840398606208,
          55.96391066325888,
          55.96264210870907,
          55.95657629337518,
          55.93894174548949,
          55.94479128084842,
          55.94894930668582,
          55.9387414422504,
          55.950222304548845,
          55.98676132611317,
          55.98989968232655,
          55.987743170866025,
          55.99052952143077,
          55.98110725959637,
          55.992957267668345,
          55.97240196356882,
          55.957004308392506,
          55.975188943018544,
          53.39552546462075,
          55.981286014792985,
          55.92429517498461,
          55.97233473082818,
          55.95994339132352,
          55.96345848770889,
          55.98002374180832,
          55.95661859471628,
          55.96026010209808,
          55.94274592050117,
          55.94294485385191,
          55.942364438846695,
          55.9456092021698,
          55.926664566092654,
          55.94405135341408,
          55.94442555452843,
          55.93437199635734,
          55.940886347739024,
          55.964058329676064,
          55.94166971920444,
          55.931168715771065,
          55.9387919459937,
          55.98260596953824,
          55.99018214620787,
          55.98376618789104
         ],
         "legendgroup": "no",
         "lon": [
          -3.155833150766966,
          -3.176901814164921,
          -3.181005314780577,
          -3.191380756192416,
          -3.179472670388236,
          -3.203678290717107,
          -3.223428055375961,
          -3.166884617023356,
          -3.206435329645956,
          -3.194591930765,
          -3.198031182386103,
          -3.202294536676049,
          -3.198671326704016,
          -3.194252202886105,
          -3.212428647463525,
          -3.209738736635245,
          -3.182670511194715,
          -3.222524291865397,
          -3.221430982426,
          -3.220602995527315,
          -3.217144191708712,
          -3.207815717530479,
          -3.202073560611438,
          -3.185188767893123,
          -3.180114903557978,
          -3.199635221500898,
          -3.191346079294362,
          -3.171623996101516,
          -3.172108169850503,
          -3.307305425252252,
          -3.306114175491529,
          -3.215659820662267,
          -3.201386994249105,
          -3.180692837632364,
          -3.175798619087572,
          -3.271484360775275,
          -3.269279523944419,
          -3.243687888944919,
          -3.236542329964095,
          -3.251173333050928,
          -3.184979210204801,
          -3.195673725279903,
          -3.202964359237739,
          -3.210484908343801,
          -3.23472817617926,
          -3.232031328469361,
          -3.234541218248978,
          -3.186542135633317,
          -3.237802024128314,
          -3.184972223259024,
          -3.17897226737648,
          -3.178725911660876,
          -3.248556775310362,
          -3.219679557435938,
          -3.3688722251728223,
          -3.381606403941987,
          -3.355912910873826,
          -3.190360574257738,
          -3.18781281937504,
          -3.166441630769213,
          -3.18226129953905,
          -3.211238456749925,
          -3.205678007970846,
          -3.168590609786974,
          -3.073045771766146,
          -3.181597452807864,
          -3.189862157672223,
          -3.191321207818646,
          -3.320170069082337,
          -3.328825358925314,
          -3.191861874639585,
          -3.231915547243943,
          -3.237939788691392,
          -3.251110776059022,
          -3.243673010460725,
          -3.094727261654725,
          -3.229909254900902,
          -3.190270030188429,
          -3.382426853781425,
          -3.397772901929727,
          -3.40375244599943,
          -3.385596660576908,
          -3.39421060796127,
          -3.407156205559118,
          -3.155794035109693,
          -3.116888118730116,
          -3.191030339257167,
          -2.9901380418724552,
          -3.176351263805259,
          -3.133510335817163,
          -3.155781602605998,
          -3.187329201962484,
          -3.23280956008216,
          -3.300622016981151,
          -3.237802968201094,
          -3.203912595837096,
          -3.281623013233002,
          -3.290794069257344,
          -3.265384123501235,
          -3.231715619159217,
          -3.289467852759799,
          -3.098567246199309,
          -3.234497716594433,
          -3.105037819791278,
          -3.240777565829148,
          -3.195700361124863,
          -3.271523727766862,
          -3.314414297805683,
          -3.355556216932513,
          -3.381454898058535,
          -3.404603924278717,
          -3.401351801602175
         ],
         "marker": {
          "color": "#EF553B",
          "size": [
           5,
           444,
           6062,
           93,
           1855,
           1693,
           1214,
           1311,
           3289,
           2214,
           1981,
           238,
           215,
           1001,
           1784,
           2632,
           1714,
           751,
           895,
           3274,
           88,
           1349,
           3745,
           1011,
           1944,
           11,
           1854,
           3747,
           189,
           109,
           150,
           2087,
           2195,
           122,
           922,
           352,
           270,
           959,
           541,
           188,
           1012,
           248,
           1070,
           1465,
           39,
           919,
           377,
           621,
           658,
           912,
           37,
           49,
           13,
           37,
           13,
           66,
           18,
           85,
           120,
           2611,
           729,
           47,
           52,
           10,
           190,
           8,
           105,
           2570,
           128,
           44,
           18,
           4624,
           2103,
           4084,
           782,
           7196,
           6101,
           1,
           732,
           576,
           1041,
           3526,
           128,
           395,
           2,
           5212,
           235,
           3,
           7325,
           35,
           6,
           1219,
           404,
           943,
           380,
           95,
           61,
           67,
           20,
           618,
           44,
           161,
           1862,
           6,
           2,
           2076,
           1454,
           235,
           221,
           546,
           1080,
           200
          ],
          "sizemode": "area",
          "sizeref": 144.20888888888888
         },
         "mode": "markers",
         "name": "no",
         "showlegend": true,
         "subplot": "mapbox",
         "type": "scattermapbox"
        }
       ],
       "layout": {
        "height": 600,
        "legend": {
         "itemsizing": "constant",
         "title": {
          "text": "activity"
         },
         "tracegroupgap": 0
        },
        "mapbox": {
         "center": {
          "lat": 55.936786932670564,
          "lon": -3.214666327850775
         },
         "domain": {
          "x": [
           0,
           1
          ],
          "y": [
           0,
           1
          ]
         },
         "style": "open-street-map",
         "zoom": 10
        },
        "margin": {
         "b": 0,
         "l": 0,
         "r": 0,
         "t": 0
        },
        "template": {
         "data": {
          "bar": [
           {
            "error_x": {
             "color": "#2a3f5f"
            },
            "error_y": {
             "color": "#2a3f5f"
            },
            "marker": {
             "line": {
              "color": "#E5ECF6",
              "width": 0.5
             },
             "pattern": {
              "fillmode": "overlay",
              "size": 10,
              "solidity": 0.2
             }
            },
            "type": "bar"
           }
          ],
          "barpolar": [
           {
            "marker": {
             "line": {
              "color": "#E5ECF6",
              "width": 0.5
             },
             "pattern": {
              "fillmode": "overlay",
              "size": 10,
              "solidity": 0.2
             }
            },
            "type": "barpolar"
           }
          ],
          "carpet": [
           {
            "aaxis": {
             "endlinecolor": "#2a3f5f",
             "gridcolor": "white",
             "linecolor": "white",
             "minorgridcolor": "white",
             "startlinecolor": "#2a3f5f"
            },
            "baxis": {
             "endlinecolor": "#2a3f5f",
             "gridcolor": "white",
             "linecolor": "white",
             "minorgridcolor": "white",
             "startlinecolor": "#2a3f5f"
            },
            "type": "carpet"
           }
          ],
          "choropleth": [
           {
            "colorbar": {
             "outlinewidth": 0,
             "ticks": ""
            },
            "type": "choropleth"
           }
          ],
          "contour": [
           {
            "colorbar": {
             "outlinewidth": 0,
             "ticks": ""
            },
            "colorscale": [
             [
              0,
              "#0d0887"
             ],
             [
              0.1111111111111111,
              "#46039f"
             ],
             [
              0.2222222222222222,
              "#7201a8"
             ],
             [
              0.3333333333333333,
              "#9c179e"
             ],
             [
              0.4444444444444444,
              "#bd3786"
             ],
             [
              0.5555555555555556,
              "#d8576b"
             ],
             [
              0.6666666666666666,
              "#ed7953"
             ],
             [
              0.7777777777777778,
              "#fb9f3a"
             ],
             [
              0.8888888888888888,
              "#fdca26"
             ],
             [
              1,
              "#f0f921"
             ]
            ],
            "type": "contour"
           }
          ],
          "contourcarpet": [
           {
            "colorbar": {
             "outlinewidth": 0,
             "ticks": ""
            },
            "type": "contourcarpet"
           }
          ],
          "heatmap": [
           {
            "colorbar": {
             "outlinewidth": 0,
             "ticks": ""
            },
            "colorscale": [
             [
              0,
              "#0d0887"
             ],
             [
              0.1111111111111111,
              "#46039f"
             ],
             [
              0.2222222222222222,
              "#7201a8"
             ],
             [
              0.3333333333333333,
              "#9c179e"
             ],
             [
              0.4444444444444444,
              "#bd3786"
             ],
             [
              0.5555555555555556,
              "#d8576b"
             ],
             [
              0.6666666666666666,
              "#ed7953"
             ],
             [
              0.7777777777777778,
              "#fb9f3a"
             ],
             [
              0.8888888888888888,
              "#fdca26"
             ],
             [
              1,
              "#f0f921"
             ]
            ],
            "type": "heatmap"
           }
          ],
          "heatmapgl": [
           {
            "colorbar": {
             "outlinewidth": 0,
             "ticks": ""
            },
            "colorscale": [
             [
              0,
              "#0d0887"
             ],
             [
              0.1111111111111111,
              "#46039f"
             ],
             [
              0.2222222222222222,
              "#7201a8"
             ],
             [
              0.3333333333333333,
              "#9c179e"
             ],
             [
              0.4444444444444444,
              "#bd3786"
             ],
             [
              0.5555555555555556,
              "#d8576b"
             ],
             [
              0.6666666666666666,
              "#ed7953"
             ],
             [
              0.7777777777777778,
              "#fb9f3a"
             ],
             [
              0.8888888888888888,
              "#fdca26"
             ],
             [
              1,
              "#f0f921"
             ]
            ],
            "type": "heatmapgl"
           }
          ],
          "histogram": [
           {
            "marker": {
             "pattern": {
              "fillmode": "overlay",
              "size": 10,
              "solidity": 0.2
             }
            },
            "type": "histogram"
           }
          ],
          "histogram2d": [
           {
            "colorbar": {
             "outlinewidth": 0,
             "ticks": ""
            },
            "colorscale": [
             [
              0,
              "#0d0887"
             ],
             [
              0.1111111111111111,
              "#46039f"
             ],
             [
              0.2222222222222222,
              "#7201a8"
             ],
             [
              0.3333333333333333,
              "#9c179e"
             ],
             [
              0.4444444444444444,
              "#bd3786"
             ],
             [
              0.5555555555555556,
              "#d8576b"
             ],
             [
              0.6666666666666666,
              "#ed7953"
             ],
             [
              0.7777777777777778,
              "#fb9f3a"
             ],
             [
              0.8888888888888888,
              "#fdca26"
             ],
             [
              1,
              "#f0f921"
             ]
            ],
            "type": "histogram2d"
           }
          ],
          "histogram2dcontour": [
           {
            "colorbar": {
             "outlinewidth": 0,
             "ticks": ""
            },
            "colorscale": [
             [
              0,
              "#0d0887"
             ],
             [
              0.1111111111111111,
              "#46039f"
             ],
             [
              0.2222222222222222,
              "#7201a8"
             ],
             [
              0.3333333333333333,
              "#9c179e"
             ],
             [
              0.4444444444444444,
              "#bd3786"
             ],
             [
              0.5555555555555556,
              "#d8576b"
             ],
             [
              0.6666666666666666,
              "#ed7953"
             ],
             [
              0.7777777777777778,
              "#fb9f3a"
             ],
             [
              0.8888888888888888,
              "#fdca26"
             ],
             [
              1,
              "#f0f921"
             ]
            ],
            "type": "histogram2dcontour"
           }
          ],
          "mesh3d": [
           {
            "colorbar": {
             "outlinewidth": 0,
             "ticks": ""
            },
            "type": "mesh3d"
           }
          ],
          "parcoords": [
           {
            "line": {
             "colorbar": {
              "outlinewidth": 0,
              "ticks": ""
             }
            },
            "type": "parcoords"
           }
          ],
          "pie": [
           {
            "automargin": true,
            "type": "pie"
           }
          ],
          "scatter": [
           {
            "fillpattern": {
             "fillmode": "overlay",
             "size": 10,
             "solidity": 0.2
            },
            "type": "scatter"
           }
          ],
          "scatter3d": [
           {
            "line": {
             "colorbar": {
              "outlinewidth": 0,
              "ticks": ""
             }
            },
            "marker": {
             "colorbar": {
              "outlinewidth": 0,
              "ticks": ""
             }
            },
            "type": "scatter3d"
           }
          ],
          "scattercarpet": [
           {
            "marker": {
             "colorbar": {
              "outlinewidth": 0,
              "ticks": ""
             }
            },
            "type": "scattercarpet"
           }
          ],
          "scattergeo": [
           {
            "marker": {
             "colorbar": {
              "outlinewidth": 0,
              "ticks": ""
             }
            },
            "type": "scattergeo"
           }
          ],
          "scattergl": [
           {
            "marker": {
             "colorbar": {
              "outlinewidth": 0,
              "ticks": ""
             }
            },
            "type": "scattergl"
           }
          ],
          "scattermapbox": [
           {
            "marker": {
             "colorbar": {
              "outlinewidth": 0,
              "ticks": ""
             }
            },
            "type": "scattermapbox"
           }
          ],
          "scatterpolar": [
           {
            "marker": {
             "colorbar": {
              "outlinewidth": 0,
              "ticks": ""
             }
            },
            "type": "scatterpolar"
           }
          ],
          "scatterpolargl": [
           {
            "marker": {
             "colorbar": {
              "outlinewidth": 0,
              "ticks": ""
             }
            },
            "type": "scatterpolargl"
           }
          ],
          "scatterternary": [
           {
            "marker": {
             "colorbar": {
              "outlinewidth": 0,
              "ticks": ""
             }
            },
            "type": "scatterternary"
           }
          ],
          "surface": [
           {
            "colorbar": {
             "outlinewidth": 0,
             "ticks": ""
            },
            "colorscale": [
             [
              0,
              "#0d0887"
             ],
             [
              0.1111111111111111,
              "#46039f"
             ],
             [
              0.2222222222222222,
              "#7201a8"
             ],
             [
              0.3333333333333333,
              "#9c179e"
             ],
             [
              0.4444444444444444,
              "#bd3786"
             ],
             [
              0.5555555555555556,
              "#d8576b"
             ],
             [
              0.6666666666666666,
              "#ed7953"
             ],
             [
              0.7777777777777778,
              "#fb9f3a"
             ],
             [
              0.8888888888888888,
              "#fdca26"
             ],
             [
              1,
              "#f0f921"
             ]
            ],
            "type": "surface"
           }
          ],
          "table": [
           {
            "cells": {
             "fill": {
              "color": "#EBF0F8"
             },
             "line": {
              "color": "white"
             }
            },
            "header": {
             "fill": {
              "color": "#C8D4E3"
             },
             "line": {
              "color": "white"
             }
            },
            "type": "table"
           }
          ]
         },
         "layout": {
          "annotationdefaults": {
           "arrowcolor": "#2a3f5f",
           "arrowhead": 0,
           "arrowwidth": 1
          },
          "autotypenumbers": "strict",
          "coloraxis": {
           "colorbar": {
            "outlinewidth": 0,
            "ticks": ""
           }
          },
          "colorscale": {
           "diverging": [
            [
             0,
             "#8e0152"
            ],
            [
             0.1,
             "#c51b7d"
            ],
            [
             0.2,
             "#de77ae"
            ],
            [
             0.3,
             "#f1b6da"
            ],
            [
             0.4,
             "#fde0ef"
            ],
            [
             0.5,
             "#f7f7f7"
            ],
            [
             0.6,
             "#e6f5d0"
            ],
            [
             0.7,
             "#b8e186"
            ],
            [
             0.8,
             "#7fbc41"
            ],
            [
             0.9,
             "#4d9221"
            ],
            [
             1,
             "#276419"
            ]
           ],
           "sequential": [
            [
             0,
             "#0d0887"
            ],
            [
             0.1111111111111111,
             "#46039f"
            ],
            [
             0.2222222222222222,
             "#7201a8"
            ],
            [
             0.3333333333333333,
             "#9c179e"
            ],
            [
             0.4444444444444444,
             "#bd3786"
            ],
            [
             0.5555555555555556,
             "#d8576b"
            ],
            [
             0.6666666666666666,
             "#ed7953"
            ],
            [
             0.7777777777777778,
             "#fb9f3a"
            ],
            [
             0.8888888888888888,
             "#fdca26"
            ],
            [
             1,
             "#f0f921"
            ]
           ],
           "sequentialminus": [
            [
             0,
             "#0d0887"
            ],
            [
             0.1111111111111111,
             "#46039f"
            ],
            [
             0.2222222222222222,
             "#7201a8"
            ],
            [
             0.3333333333333333,
             "#9c179e"
            ],
            [
             0.4444444444444444,
             "#bd3786"
            ],
            [
             0.5555555555555556,
             "#d8576b"
            ],
            [
             0.6666666666666666,
             "#ed7953"
            ],
            [
             0.7777777777777778,
             "#fb9f3a"
            ],
            [
             0.8888888888888888,
             "#fdca26"
            ],
            [
             1,
             "#f0f921"
            ]
           ]
          },
          "colorway": [
           "#636efa",
           "#EF553B",
           "#00cc96",
           "#ab63fa",
           "#FFA15A",
           "#19d3f3",
           "#FF6692",
           "#B6E880",
           "#FF97FF",
           "#FECB52"
          ],
          "font": {
           "color": "#2a3f5f"
          },
          "geo": {
           "bgcolor": "white",
           "lakecolor": "white",
           "landcolor": "#E5ECF6",
           "showlakes": true,
           "showland": true,
           "subunitcolor": "white"
          },
          "hoverlabel": {
           "align": "left"
          },
          "hovermode": "closest",
          "mapbox": {
           "style": "light"
          },
          "paper_bgcolor": "white",
          "plot_bgcolor": "#E5ECF6",
          "polar": {
           "angularaxis": {
            "gridcolor": "white",
            "linecolor": "white",
            "ticks": ""
           },
           "bgcolor": "#E5ECF6",
           "radialaxis": {
            "gridcolor": "white",
            "linecolor": "white",
            "ticks": ""
           }
          },
          "scene": {
           "xaxis": {
            "backgroundcolor": "#E5ECF6",
            "gridcolor": "white",
            "gridwidth": 2,
            "linecolor": "white",
            "showbackground": true,
            "ticks": "",
            "zerolinecolor": "white"
           },
           "yaxis": {
            "backgroundcolor": "#E5ECF6",
            "gridcolor": "white",
            "gridwidth": 2,
            "linecolor": "white",
            "showbackground": true,
            "ticks": "",
            "zerolinecolor": "white"
           },
           "zaxis": {
            "backgroundcolor": "#E5ECF6",
            "gridcolor": "white",
            "gridwidth": 2,
            "linecolor": "white",
            "showbackground": true,
            "ticks": "",
            "zerolinecolor": "white"
           }
          },
          "shapedefaults": {
           "line": {
            "color": "#2a3f5f"
           }
          },
          "ternary": {
           "aaxis": {
            "gridcolor": "white",
            "linecolor": "white",
            "ticks": ""
           },
           "baxis": {
            "gridcolor": "white",
            "linecolor": "white",
            "ticks": ""
           },
           "bgcolor": "#E5ECF6",
           "caxis": {
            "gridcolor": "white",
            "linecolor": "white",
            "ticks": ""
           }
          },
          "title": {
           "x": 0.05
          },
          "xaxis": {
           "automargin": true,
           "gridcolor": "white",
           "linecolor": "white",
           "ticks": "",
           "title": {
            "standoff": 15
           },
           "zerolinecolor": "white",
           "zerolinewidth": 2
          },
          "yaxis": {
           "automargin": true,
           "gridcolor": "white",
           "linecolor": "white",
           "ticks": "",
           "title": {
            "standoff": 15
           },
           "zerolinecolor": "white",
           "zerolinewidth": 2
          }
         }
        }
       }
      },
      "text/html": [
       "<div>                            <div id=\"b4a9c908-c603-428f-9b3b-3c96563e9b29\" class=\"plotly-graph-div\" style=\"height:600px; width:100%;\"></div>            <script type=\"text/javascript\">                require([\"plotly\"], function(Plotly) {                    window.PLOTLYENV=window.PLOTLYENV || {};                                    if (document.getElementById(\"b4a9c908-c603-428f-9b3b-3c96563e9b29\")) {                    Plotly.newPlot(                        \"b4a9c908-c603-428f-9b3b-3c96563e9b29\",                        [{\"hovertemplate\":\"<b>%{hovertext}</b><br><br>activity=yes<br>total_sum=%{marker.size}<br>station_latitude=%{lat}<br>station_longitude=%{lon}<extra></extra>\",\"hovertext\":[\"George Square\",\"Waverley Bridge\",\"City Chambers\",\"Waverley Court\",\"Royal Commonwealth Pool\",\"Charlotte Square\",\"Bristo Square\",\"Fountainbridge\",\"Victoria Quay\",\"Waverley Station\",\"Kings Buildings 1\",\"Kings Building 2\",\"Kings Building 3\",\"St Andrews House\",\"Stockbridge\",\"St Andrew Square\",\"Lauriston Place\",\"Canonmills\",\"Pollock Halls\",\"Meadows East\",\"Castle Street\",\"Castle Terrace\",\"Orchard Brae House\",\"Leith Walk\",\"Crichton Street\",\"Grassmarket\",\"Meadow Place\",\"Dundee Terrace\",\"Hunter Square\",\"South Trinity Road\",\"Lothian Road\",\"Kings Buildings - Murchison House\",\"EICC\",\"Warrender Park Road\",\"Surgeons Hall\",\"Hillside Crescent\",\"Holyrood Road\",\"Dalry Road Lidl\",\"Belford Road\",\"West Crosscauseway\",\"Gladstone Terrace\",\"Marchmont Crescent\",\"Haymarket Station\",\"Dundas Street\",\"Tollcross\",\"Cramond Foreshore\",\"Edinburgh Zoo\",\"Causewayside\",\"Portobello - Kings Road\",\"McDonald Road\",\"East London Street\",\"Pleasance Courtyard\",\"Inverleith Row\",\"Wester Coates Terrace\",\"Edinburgh Royal Infirmary\",\"Morningside Road\",\"Scotland Street\",\"Colinton Road\",\"Murrayfield Tram\",\"Western General Hospital\",\"Meggetland\",\"Queen Margaret University\",\"Comely Bank Road\",\"Haymarket Terrace\",\"Bruntsfield Links\",\"Thirlestane Road\",\"Brunswick Place\",\"Ellersly Road\",\"Chambers Street\",\"Gamekeeper's Road\",\"Milton Road - Edinburgh College\",\"Abbeyhill\",\"Sighthill - Edinburgh College\",\"Dynamic Earth\",\"Heriot Watt - Edinburgh Business School\",\"Heriot Watt - Student Accommodation\",\"Drumsheugh Place\",\"Edinburgh Park Station\",\"Boroughmuir\",\"Duke Street\",\"Leith Walk North\",\"Musselburgh Lidl\",\"Musselburgh Brunton Hall\",\"Picardy Place\",\"Simon Square\",\"Dean Street\",\"Waitrose Comely Bank\",\"Royal Edinburgh Hospital\"],\"lat\":[55.94308406301113,55.951980756193535,55.95010933017899,55.95173449698344,55.93900024788877,55.95233546161639,55.94583371599285,55.94335692764551,55.97761715254634,55.952641035774384,55.92418540667696,55.92320215516664,55.92347880784664,55.95316433242384,55.95856558589723,55.95490573198223,55.94477165233548,55.96280408759764,55.94008064125911,55.939809466328285,55.95150073734976,55.94676648672239,55.95508276879095,55.96517649040763,55.94478427951007,55.947097278583385,55.94023763168944,55.93970989541296,55.94979756563328,55.97132539148155,55.94740919920712,55.92446420087144,55.94607055533778,55.93836921723555,55.94664279961712,55.95787194536338,55.94955950619123,55.94179129688128,55.95197357717703,55.9438359841253,55.93796327344498,55.9364319181482,55.94556945067266,55.9607624081837,55.944248052468346,55.98003076740317,55.94211534619251,55.93650603148236,55.95791540692348,55.9640310527501,55.95995414501485,55.947490592969416,55.96411787988959,55.94564841884953,55.92135417116336,55.927985349796536,55.96037972054591,55.93341635916104,55.94191081116495,55.96283984266853,55.92758664038103,55.931980482636575,55.95941012836135,55.946063966641006,55.937123239991095,55.93532370964813,55.96085174106396,55.945045875212095,55.94760044619224,55.969442746098885,55.94406627599551,55.95524788917224,55.92668427748757,55.951089465236365,55.9088228790413,55.90841344459825,55.95159412232485,55.92738267693901,55.94007146917616,55.96901164826488,55.96791807044289,55.94388031687606,55.94396074176487,55.95653524179326,55.94485886752089,55.957278012740645,55.95953624971772,55.92781815597736],\"legendgroup\":\"yes\",\"lon\":[-3.188311072722399,-3.191890332557903,-3.190257770093808,-3.18417853540609,-3.173923554315593,-3.207101172107286,-3.189053072075467,-3.209247501624645,-3.174126319457627,-3.187526919462357,-3.173830830087809,-3.17164624536349,-3.175384584907078,-3.181682340931843,-3.208070182227743,-3.192443756949956,-3.197265856419562,-3.196283585062929,-3.171746866852459,-3.182738850746432,-3.203183906525282,-3.202037829055143,-3.223634263956455,-3.176180170207629,-3.186906245433761,-3.1972457326126,-3.194640214184801,-3.220588933667954,-3.1877950320129,-3.207963567424258,-3.205765497136553,-3.178731512475451,-3.210396331000765,-3.198032688546618,-3.185474585938891,-3.175888370919665,-3.180413257527789,-3.222415309596499,-3.226124804664096,-3.184951408497681,-3.185021145932069,-3.194150044314256,-3.21818468327956,-3.201278014771333,-3.203104599110474,-3.300641788832536,-3.269286765448441,-3.180166347615113,-3.118332042090287,-3.185175372950425,-3.187197758547654,-3.181112126101965,-3.202094747416367,-3.231847150914063,-3.136971299254497,-3.209749771944871,-3.195470336902758,-3.21239711224257,-3.237800313822617,-3.234135938375289,-3.23367105304419,-3.073104633681168,-3.215661360613694,-3.223024024359574,-3.206431879393449,-3.198763443819871,-3.180985762469163,-3.250881447188249,-3.188919736735215,-3.307258798472374,-3.098561479441612,-3.17221628009507,-3.289481117121666,-3.17572460948655,-3.320113285176247,-3.328783525816887,-3.212354285094022,-3.307442444578868,-3.215335840688084,-3.16739470303429,-3.17358629706473,-3.066753916217862,-3.058306836702485,-3.18624761207468,-3.182589723460069,-3.214285387389054,-3.223434402338853,-3.213307722203224],\"marker\":{\"color\":\"#636efa\",\"size\":[12176.0,16806.0,8497.0,4870.0,8791.0,13034.0,20597.0,15662.0,25754.0,3363.0,1922.0,8614.0,6130.0,5167.0,14344.0,20445.0,9952.0,21350.0,15949.0,32447.0,16187.0,8755.0,2786.0,18859.0,5358.0,5870.0,20078.0,14100.0,5930.0,10315.0,9395.0,2605.0,5985.0,6418.0,5447.0,8601.0,8108.0,8441.0,2140.0,7504.0,4116.0,3073.0,6251.0,7215.0,10944.0,14412.0,1929.0,8232.0,28327.0,7689.0,6032.0,2757.0,5880.0,4026.0,3098.0,7713.0,5219.0,2163.0,1852.0,4018.0,5027.0,2711.0,6957.0,4814.0,11326.0,3086.0,10672.0,717.0,3608.0,3033.0,2465.0,9883.0,1166.0,10404.0,1846.0,525.0,5375.0,1808.0,8138.0,18442.0,2674.0,1537.0,668.0,3400.0,1680.0,1517.0,2856.0,427.0],\"sizemode\":\"area\",\"sizeref\":144.20888888888888},\"mode\":\"markers\",\"name\":\"yes\",\"showlegend\":true,\"subplot\":\"mapbox\",\"type\":\"scattermapbox\"},{\"hovertemplate\":\"<b>%{hovertext}</b><br><br>activity=no<br>total_sum=%{marker.size}<br>station_latitude=%{lat}<br>station_longitude=%{lon}<extra></extra>\",\"hovertext\":[\"Depot\",\"Kings Buildings 4\",\"Brunswick Place - Virtual\",\"Launch Day Event\",\"Shrubhill\",\"Riego Street\",\"Waitrose, Comely Bank\",\"Leith Links\",\"Bruntsfield links\",\"Meadow Place\",\"Warrender Park Road\",\"Whitehouse Loan\",\"Thirlestane Road\",\"Marchmont Crescent\",\"Colinton Road\",\"Morningside Road\",\"Simon Square\",\"Dalry Road Lidl\",\"Dalry Road Co-op\",\"Dundee Terrace\",\"Gibson Terrace\",\"South Trinity Road\",\"Inverleith Row\",\"Macdonald Road\",\"Causewayside\",\"Novotel\",\"Dudley Gardens\",\"Newkirkgate\",\"Pollock Halls Virtual\",\"Gamekeeper's Road\",\"Whitehouse Road\",\"Comely Bank Road\",\"Dundas Street\",\"Hillside Crescent 1\",\"Hillside Crescent\",\"Corstorphine Road\",\"Edinburgh Zoo\",\"Murrayfield\",\"Murrayfield Avenue\",\"Balgreen\",\"Gladstone Terrace\",\"Logie Green Road\",\"Tollcross\",\"EICC\",\"Queensferry Road\",\"IGMM\",\"Roseburn Street\",\"Crichton Street\",\"Murrayfield Tram\",\"West Crosscauseway\",\"West Newington Place\",\"Dunbar\\u2019s Close Garden\",\"Corn Exchange - walk cycle event\",\"Haymarket - Murrayfield Rugby Event\",\"Royal Highland Show - East Gate (19th to 23rd June)\",\"RHC - Edinburgh Festival Camping (05th to 26th August)\",\"Ingliston Park and Ride (19th to 23rd June)\",\"Meadows - Edinburgh Climate Festival\",\"Hunter Square\",\"Constitution Street\",\"Drummond Street\",\"Fountain Court  - Apartments (RESIDENTS ONLY)\",\"Eden Locke - Aparthotel (RESIDENTS ONLY)\",\"Holyrood Park - Woman's Tour Of Scotland (Event 11/08/19)\",\"Queen Margaret University\",\"Pleasance - Edinburgh University Sports Fair\",\"HSBC UK Lets Ride - Meadows Event\",\"Dudley Gardens\",\"Heriot Watt - Edinburgh Business School\",\"Heriot Watt - Student Accomodation (Anna MacLeod Halls)\",\"Crescent House\",\"IGMM - Western General\",\"Craigleith Road\",\"Balgreen Road\",\"Murrayfield\",\"Joppa\",\"Gorgie Road\",\"City Chambers Launch Station\",\"Dalmeny Station\",\"The Loan\",\"Forth Bridge Visitors Centre\",\"Hawes Pier\",\"Scotstoun House\",\"Port Edgar Marina\",\"Virtual Depot\",\"Portobello\",\"Victoria Park\",\"Smarter Travel Station\",\"Ocean Terminal\",\"Royal Infirmary\",\"Depot Virtual\",\"East London Street\",\"Western General\",\"Cramond Foreshore\",\"Craigleith Road\",\"Henderson Row\",\"St. John's Road 1\",\"St. John's Road 2\",\"Corstorphine Road - Pinkhill\",\"Wester Coates Terrace\",\"Sighthill - Edinburgh College\",\"Milton Road - Edinburgh College\",\"Roseburn Street\",\"Fort Kinnaird\",\"Cycling Scotland Conference\",\"Logie Green Road\",\"Corstorphine Road\",\"Edinburgh Park Central\",\"Ingliston Park & Ride\",\"Borrowman Square\",\"Hopetoun Road\",\"Tesco Ferrymuir\"],\"lat\":[55.97237325804326,55.92200087060626,55.960929747664,55.94255133939095,55.96253727246136,55.945159896857184,55.95950417668882,55.96919856910954,55.93715871276677,55.94030045743447,55.938363058645024,55.93632904938287,55.93536510821717,55.93639749674367,55.93339776573361,55.92798551356313,55.944867799682754,55.9417543014448,55.94271471556419,55.93972942415463,55.94049262199568,55.97126891219085,55.96414559786725,55.96399515097124,55.93642987756881,55.94489645971535,55.97592062794979,55.97070402016615,55.94034806856411,55.96953169937321,55.96152699979099,55.95940686974708,55.96094446922441,55.95791033111316,55.957792800284125,55.94174288122498,55.94211968183478,55.94476686576929,55.94632179137708,55.93893772779211,55.93802439880083,55.96403450946105,55.94428069681837,55.94604282192561,55.95454278693572,55.96248692705142,55.94446626439512,55.94474957118208,55.9419563895648,55.94386198333096,55.93821225851473,55.951813501278245,55.92701363904687,55.945452213917534,55.940906749395,55.94065528387753,55.93909048596021,55.94173596765826,55.94969158307013,55.9753603829211,55.9483365370385,55.94380585491596,55.95261935955009,55.95135352288074,55.93193490858167,55.94820962824952,55.93997775814967,55.97593978299806,55.90878560997055,55.90840398606208,55.96391066325888,55.96264210870907,55.95657629337518,55.93894174548949,55.94479128084842,55.94894930668582,55.9387414422504,55.950222304548845,55.98676132611317,55.98989968232655,55.987743170866025,55.99052952143077,55.98110725959637,55.992957267668345,55.97240196356882,55.957004308392506,55.975188943018544,53.39552546462075,55.981286014792985,55.92429517498461,55.97233473082818,55.95994339132352,55.96345848770889,55.98002374180832,55.95661859471628,55.96026010209808,55.94274592050117,55.94294485385191,55.942364438846695,55.9456092021698,55.926664566092654,55.94405135341408,55.94442555452843,55.93437199635734,55.940886347739024,55.964058329676064,55.94166971920444,55.931168715771065,55.9387919459937,55.98260596953824,55.99018214620787,55.98376618789104],\"legendgroup\":\"no\",\"lon\":[-3.155833150766966,-3.176901814164921,-3.181005314780577,-3.191380756192416,-3.179472670388236,-3.203678290717107,-3.223428055375961,-3.166884617023356,-3.206435329645956,-3.194591930765,-3.198031182386103,-3.202294536676049,-3.198671326704016,-3.194252202886105,-3.212428647463525,-3.209738736635245,-3.182670511194715,-3.222524291865397,-3.221430982426,-3.220602995527315,-3.217144191708712,-3.207815717530479,-3.202073560611438,-3.185188767893123,-3.180114903557978,-3.199635221500898,-3.191346079294362,-3.171623996101516,-3.172108169850503,-3.307305425252252,-3.306114175491529,-3.215659820662267,-3.201386994249105,-3.180692837632364,-3.175798619087572,-3.271484360775275,-3.269279523944419,-3.243687888944919,-3.236542329964095,-3.251173333050928,-3.184979210204801,-3.195673725279903,-3.202964359237739,-3.210484908343801,-3.23472817617926,-3.232031328469361,-3.234541218248978,-3.186542135633317,-3.237802024128314,-3.184972223259024,-3.17897226737648,-3.178725911660876,-3.248556775310362,-3.219679557435938,-3.3688722251728223,-3.381606403941987,-3.355912910873826,-3.190360574257738,-3.18781281937504,-3.166441630769213,-3.18226129953905,-3.211238456749925,-3.205678007970846,-3.168590609786974,-3.073045771766146,-3.181597452807864,-3.189862157672223,-3.191321207818646,-3.320170069082337,-3.328825358925314,-3.191861874639585,-3.231915547243943,-3.237939788691392,-3.251110776059022,-3.243673010460725,-3.094727261654725,-3.229909254900902,-3.190270030188429,-3.382426853781425,-3.397772901929727,-3.40375244599943,-3.385596660576908,-3.39421060796127,-3.407156205559118,-3.155794035109693,-3.116888118730116,-3.191030339257167,-2.9901380418724552,-3.176351263805259,-3.133510335817163,-3.155781602605998,-3.187329201962484,-3.23280956008216,-3.300622016981151,-3.237802968201094,-3.203912595837096,-3.281623013233002,-3.290794069257344,-3.265384123501235,-3.231715619159217,-3.289467852759799,-3.098567246199309,-3.234497716594433,-3.105037819791278,-3.240777565829148,-3.195700361124863,-3.271523727766862,-3.314414297805683,-3.355556216932513,-3.381454898058535,-3.404603924278717,-3.401351801602175],\"marker\":{\"color\":\"#EF553B\",\"size\":[5.0,444.0,6062.0,93.0,1855.0,1693.0,1214.0,1311.0,3289.0,2214.0,1981.0,238.0,215.0,1001.0,1784.0,2632.0,1714.0,751.0,895.0,3274.0,88.0,1349.0,3745.0,1011.0,1944.0,11.0,1854.0,3747.0,189.0,109.0,150.0,2087.0,2195.0,122.0,922.0,352.0,270.0,959.0,541.0,188.0,1012.0,248.0,1070.0,1465.0,39.0,919.0,377.0,621.0,658.0,912.0,37.0,49.0,13.0,37.0,13.0,66.0,18.0,85.0,120.0,2611.0,729.0,47.0,52.0,10.0,190.0,8.0,105.0,2570.0,128.0,44.0,18.0,4624.0,2103.0,4084.0,782.0,7196.0,6101.0,1.0,732.0,576.0,1041.0,3526.0,128.0,395.0,2.0,5212.0,235.0,3.0,7325.0,35.0,6.0,1219.0,404.0,943.0,380.0,95.0,61.0,67.0,20.0,618.0,44.0,161.0,1862.0,6.0,2.0,2076.0,1454.0,235.0,221.0,546.0,1080.0,200.0],\"sizemode\":\"area\",\"sizeref\":144.20888888888888},\"mode\":\"markers\",\"name\":\"no\",\"showlegend\":true,\"subplot\":\"mapbox\",\"type\":\"scattermapbox\"}],                        {\"template\":{\"data\":{\"histogram2dcontour\":[{\"type\":\"histogram2dcontour\",\"colorbar\":{\"outlinewidth\":0,\"ticks\":\"\"},\"colorscale\":[[0.0,\"#0d0887\"],[0.1111111111111111,\"#46039f\"],[0.2222222222222222,\"#7201a8\"],[0.3333333333333333,\"#9c179e\"],[0.4444444444444444,\"#bd3786\"],[0.5555555555555556,\"#d8576b\"],[0.6666666666666666,\"#ed7953\"],[0.7777777777777778,\"#fb9f3a\"],[0.8888888888888888,\"#fdca26\"],[1.0,\"#f0f921\"]]}],\"choropleth\":[{\"type\":\"choropleth\",\"colorbar\":{\"outlinewidth\":0,\"ticks\":\"\"}}],\"histogram2d\":[{\"type\":\"histogram2d\",\"colorbar\":{\"outlinewidth\":0,\"ticks\":\"\"},\"colorscale\":[[0.0,\"#0d0887\"],[0.1111111111111111,\"#46039f\"],[0.2222222222222222,\"#7201a8\"],[0.3333333333333333,\"#9c179e\"],[0.4444444444444444,\"#bd3786\"],[0.5555555555555556,\"#d8576b\"],[0.6666666666666666,\"#ed7953\"],[0.7777777777777778,\"#fb9f3a\"],[0.8888888888888888,\"#fdca26\"],[1.0,\"#f0f921\"]]}],\"heatmap\":[{\"type\":\"heatmap\",\"colorbar\":{\"outlinewidth\":0,\"ticks\":\"\"},\"colorscale\":[[0.0,\"#0d0887\"],[0.1111111111111111,\"#46039f\"],[0.2222222222222222,\"#7201a8\"],[0.3333333333333333,\"#9c179e\"],[0.4444444444444444,\"#bd3786\"],[0.5555555555555556,\"#d8576b\"],[0.6666666666666666,\"#ed7953\"],[0.7777777777777778,\"#fb9f3a\"],[0.8888888888888888,\"#fdca26\"],[1.0,\"#f0f921\"]]}],\"heatmapgl\":[{\"type\":\"heatmapgl\",\"colorbar\":{\"outlinewidth\":0,\"ticks\":\"\"},\"colorscale\":[[0.0,\"#0d0887\"],[0.1111111111111111,\"#46039f\"],[0.2222222222222222,\"#7201a8\"],[0.3333333333333333,\"#9c179e\"],[0.4444444444444444,\"#bd3786\"],[0.5555555555555556,\"#d8576b\"],[0.6666666666666666,\"#ed7953\"],[0.7777777777777778,\"#fb9f3a\"],[0.8888888888888888,\"#fdca26\"],[1.0,\"#f0f921\"]]}],\"contourcarpet\":[{\"type\":\"contourcarpet\",\"colorbar\":{\"outlinewidth\":0,\"ticks\":\"\"}}],\"contour\":[{\"type\":\"contour\",\"colorbar\":{\"outlinewidth\":0,\"ticks\":\"\"},\"colorscale\":[[0.0,\"#0d0887\"],[0.1111111111111111,\"#46039f\"],[0.2222222222222222,\"#7201a8\"],[0.3333333333333333,\"#9c179e\"],[0.4444444444444444,\"#bd3786\"],[0.5555555555555556,\"#d8576b\"],[0.6666666666666666,\"#ed7953\"],[0.7777777777777778,\"#fb9f3a\"],[0.8888888888888888,\"#fdca26\"],[1.0,\"#f0f921\"]]}],\"surface\":[{\"type\":\"surface\",\"colorbar\":{\"outlinewidth\":0,\"ticks\":\"\"},\"colorscale\":[[0.0,\"#0d0887\"],[0.1111111111111111,\"#46039f\"],[0.2222222222222222,\"#7201a8\"],[0.3333333333333333,\"#9c179e\"],[0.4444444444444444,\"#bd3786\"],[0.5555555555555556,\"#d8576b\"],[0.6666666666666666,\"#ed7953\"],[0.7777777777777778,\"#fb9f3a\"],[0.8888888888888888,\"#fdca26\"],[1.0,\"#f0f921\"]]}],\"mesh3d\":[{\"type\":\"mesh3d\",\"colorbar\":{\"outlinewidth\":0,\"ticks\":\"\"}}],\"scatter\":[{\"fillpattern\":{\"fillmode\":\"overlay\",\"size\":10,\"solidity\":0.2},\"type\":\"scatter\"}],\"parcoords\":[{\"type\":\"parcoords\",\"line\":{\"colorbar\":{\"outlinewidth\":0,\"ticks\":\"\"}}}],\"scatterpolargl\":[{\"type\":\"scatterpolargl\",\"marker\":{\"colorbar\":{\"outlinewidth\":0,\"ticks\":\"\"}}}],\"bar\":[{\"error_x\":{\"color\":\"#2a3f5f\"},\"error_y\":{\"color\":\"#2a3f5f\"},\"marker\":{\"line\":{\"color\":\"#E5ECF6\",\"width\":0.5},\"pattern\":{\"fillmode\":\"overlay\",\"size\":10,\"solidity\":0.2}},\"type\":\"bar\"}],\"scattergeo\":[{\"type\":\"scattergeo\",\"marker\":{\"colorbar\":{\"outlinewidth\":0,\"ticks\":\"\"}}}],\"scatterpolar\":[{\"type\":\"scatterpolar\",\"marker\":{\"colorbar\":{\"outlinewidth\":0,\"ticks\":\"\"}}}],\"histogram\":[{\"marker\":{\"pattern\":{\"fillmode\":\"overlay\",\"size\":10,\"solidity\":0.2}},\"type\":\"histogram\"}],\"scattergl\":[{\"type\":\"scattergl\",\"marker\":{\"colorbar\":{\"outlinewidth\":0,\"ticks\":\"\"}}}],\"scatter3d\":[{\"type\":\"scatter3d\",\"line\":{\"colorbar\":{\"outlinewidth\":0,\"ticks\":\"\"}},\"marker\":{\"colorbar\":{\"outlinewidth\":0,\"ticks\":\"\"}}}],\"scattermapbox\":[{\"type\":\"scattermapbox\",\"marker\":{\"colorbar\":{\"outlinewidth\":0,\"ticks\":\"\"}}}],\"scatterternary\":[{\"type\":\"scatterternary\",\"marker\":{\"colorbar\":{\"outlinewidth\":0,\"ticks\":\"\"}}}],\"scattercarpet\":[{\"type\":\"scattercarpet\",\"marker\":{\"colorbar\":{\"outlinewidth\":0,\"ticks\":\"\"}}}],\"carpet\":[{\"aaxis\":{\"endlinecolor\":\"#2a3f5f\",\"gridcolor\":\"white\",\"linecolor\":\"white\",\"minorgridcolor\":\"white\",\"startlinecolor\":\"#2a3f5f\"},\"baxis\":{\"endlinecolor\":\"#2a3f5f\",\"gridcolor\":\"white\",\"linecolor\":\"white\",\"minorgridcolor\":\"white\",\"startlinecolor\":\"#2a3f5f\"},\"type\":\"carpet\"}],\"table\":[{\"cells\":{\"fill\":{\"color\":\"#EBF0F8\"},\"line\":{\"color\":\"white\"}},\"header\":{\"fill\":{\"color\":\"#C8D4E3\"},\"line\":{\"color\":\"white\"}},\"type\":\"table\"}],\"barpolar\":[{\"marker\":{\"line\":{\"color\":\"#E5ECF6\",\"width\":0.5},\"pattern\":{\"fillmode\":\"overlay\",\"size\":10,\"solidity\":0.2}},\"type\":\"barpolar\"}],\"pie\":[{\"automargin\":true,\"type\":\"pie\"}]},\"layout\":{\"autotypenumbers\":\"strict\",\"colorway\":[\"#636efa\",\"#EF553B\",\"#00cc96\",\"#ab63fa\",\"#FFA15A\",\"#19d3f3\",\"#FF6692\",\"#B6E880\",\"#FF97FF\",\"#FECB52\"],\"font\":{\"color\":\"#2a3f5f\"},\"hovermode\":\"closest\",\"hoverlabel\":{\"align\":\"left\"},\"paper_bgcolor\":\"white\",\"plot_bgcolor\":\"#E5ECF6\",\"polar\":{\"bgcolor\":\"#E5ECF6\",\"angularaxis\":{\"gridcolor\":\"white\",\"linecolor\":\"white\",\"ticks\":\"\"},\"radialaxis\":{\"gridcolor\":\"white\",\"linecolor\":\"white\",\"ticks\":\"\"}},\"ternary\":{\"bgcolor\":\"#E5ECF6\",\"aaxis\":{\"gridcolor\":\"white\",\"linecolor\":\"white\",\"ticks\":\"\"},\"baxis\":{\"gridcolor\":\"white\",\"linecolor\":\"white\",\"ticks\":\"\"},\"caxis\":{\"gridcolor\":\"white\",\"linecolor\":\"white\",\"ticks\":\"\"}},\"coloraxis\":{\"colorbar\":{\"outlinewidth\":0,\"ticks\":\"\"}},\"colorscale\":{\"sequential\":[[0.0,\"#0d0887\"],[0.1111111111111111,\"#46039f\"],[0.2222222222222222,\"#7201a8\"],[0.3333333333333333,\"#9c179e\"],[0.4444444444444444,\"#bd3786\"],[0.5555555555555556,\"#d8576b\"],[0.6666666666666666,\"#ed7953\"],[0.7777777777777778,\"#fb9f3a\"],[0.8888888888888888,\"#fdca26\"],[1.0,\"#f0f921\"]],\"sequentialminus\":[[0.0,\"#0d0887\"],[0.1111111111111111,\"#46039f\"],[0.2222222222222222,\"#7201a8\"],[0.3333333333333333,\"#9c179e\"],[0.4444444444444444,\"#bd3786\"],[0.5555555555555556,\"#d8576b\"],[0.6666666666666666,\"#ed7953\"],[0.7777777777777778,\"#fb9f3a\"],[0.8888888888888888,\"#fdca26\"],[1.0,\"#f0f921\"]],\"diverging\":[[0,\"#8e0152\"],[0.1,\"#c51b7d\"],[0.2,\"#de77ae\"],[0.3,\"#f1b6da\"],[0.4,\"#fde0ef\"],[0.5,\"#f7f7f7\"],[0.6,\"#e6f5d0\"],[0.7,\"#b8e186\"],[0.8,\"#7fbc41\"],[0.9,\"#4d9221\"],[1,\"#276419\"]]},\"xaxis\":{\"gridcolor\":\"white\",\"linecolor\":\"white\",\"ticks\":\"\",\"title\":{\"standoff\":15},\"zerolinecolor\":\"white\",\"automargin\":true,\"zerolinewidth\":2},\"yaxis\":{\"gridcolor\":\"white\",\"linecolor\":\"white\",\"ticks\":\"\",\"title\":{\"standoff\":15},\"zerolinecolor\":\"white\",\"automargin\":true,\"zerolinewidth\":2},\"scene\":{\"xaxis\":{\"backgroundcolor\":\"#E5ECF6\",\"gridcolor\":\"white\",\"linecolor\":\"white\",\"showbackground\":true,\"ticks\":\"\",\"zerolinecolor\":\"white\",\"gridwidth\":2},\"yaxis\":{\"backgroundcolor\":\"#E5ECF6\",\"gridcolor\":\"white\",\"linecolor\":\"white\",\"showbackground\":true,\"ticks\":\"\",\"zerolinecolor\":\"white\",\"gridwidth\":2},\"zaxis\":{\"backgroundcolor\":\"#E5ECF6\",\"gridcolor\":\"white\",\"linecolor\":\"white\",\"showbackground\":true,\"ticks\":\"\",\"zerolinecolor\":\"white\",\"gridwidth\":2}},\"shapedefaults\":{\"line\":{\"color\":\"#2a3f5f\"}},\"annotationdefaults\":{\"arrowcolor\":\"#2a3f5f\",\"arrowhead\":0,\"arrowwidth\":1},\"geo\":{\"bgcolor\":\"white\",\"landcolor\":\"#E5ECF6\",\"subunitcolor\":\"white\",\"showland\":true,\"showlakes\":true,\"lakecolor\":\"white\"},\"title\":{\"x\":0.05},\"mapbox\":{\"style\":\"light\"}}},\"mapbox\":{\"domain\":{\"x\":[0.0,1.0],\"y\":[0.0,1.0]},\"center\":{\"lat\":55.936786932670564,\"lon\":-3.214666327850775},\"zoom\":10,\"style\":\"open-street-map\"},\"legend\":{\"title\":{\"text\":\"activity\"},\"tracegroupgap\":0,\"itemsizing\":\"constant\"},\"margin\":{\"t\":0,\"r\":0,\"l\":0,\"b\":0},\"height\":600},                        {\"responsive\": true}                    ).then(function(){\n",
       "                            \n",
       "var gd = document.getElementById('b4a9c908-c603-428f-9b3b-3c96563e9b29');\n",
       "var x = new MutationObserver(function (mutations, observer) {{\n",
       "        var display = window.getComputedStyle(gd).display;\n",
       "        if (!display || display === 'none') {{\n",
       "            console.log([gd, 'removed!']);\n",
       "            Plotly.purge(gd);\n",
       "            observer.disconnect();\n",
       "        }}\n",
       "}});\n",
       "\n",
       "// Listen for the removal of the full notebook cells\n",
       "var notebookContainer = gd.closest('#notebook-container');\n",
       "if (notebookContainer) {{\n",
       "    x.observe(notebookContainer, {childList: true});\n",
       "}}\n",
       "\n",
       "// Listen for the clearing of the current output cell\n",
       "var outputEl = gd.closest('.output');\n",
       "if (outputEl) {{\n",
       "    x.observe(outputEl, {childList: true});\n",
       "}}\n",
       "\n",
       "                        })                };                });            </script>        </div>"
      ]
     },
     "metadata": {},
     "output_type": "display_data"
    }
   ],
   "source": [
    "fig = px.scatter_mapbox(df1,lat='station_latitude',hover_name='station_name', lon='station_longitude',color=\"activity\",size=\"total_sum\",size_max=15, zoom=10, height=600)\n",
    "fig.update_layout(mapbox_style=\"open-street-map\")\n",
    "fig.update_layout(margin={\"r\":0,\"t\":0,\"l\":0,\"b\":0})\n",
    "fig.show()"
   ]
  },
  {
   "cell_type": "markdown",
   "id": "085bf5fa",
   "metadata": {},
   "source": [
    "# 2) Identify of the most frequently stations"
   ]
  },
  {
   "cell_type": "markdown",
   "id": "3fbc21ad",
   "metadata": {},
   "source": [
    "For the identify the most frequently stations i will use DataFrame called active_station. This DataFrame i am going to descending sort by total_sum and i will display first 30 rows."
   ]
  },
  {
   "cell_type": "code",
   "execution_count": 698,
   "id": "af4c13ff",
   "metadata": {},
   "outputs": [
    {
     "data": {
      "text/html": [
       "<div>\n",
       "<style scoped>\n",
       "    .dataframe tbody tr th:only-of-type {\n",
       "        vertical-align: middle;\n",
       "    }\n",
       "\n",
       "    .dataframe tbody tr th {\n",
       "        vertical-align: top;\n",
       "    }\n",
       "\n",
       "    .dataframe thead th {\n",
       "        text-align: right;\n",
       "    }\n",
       "</style>\n",
       "<table border=\"1\" class=\"dataframe\">\n",
       "  <thead>\n",
       "    <tr style=\"text-align: right;\">\n",
       "      <th></th>\n",
       "      <th>total_sum</th>\n",
       "    </tr>\n",
       "    <tr>\n",
       "      <th>station_name</th>\n",
       "      <th></th>\n",
       "    </tr>\n",
       "  </thead>\n",
       "  <tbody>\n",
       "    <tr>\n",
       "      <th>Meadows East</th>\n",
       "      <td>32447.0</td>\n",
       "    </tr>\n",
       "    <tr>\n",
       "      <th>Portobello - Kings Road</th>\n",
       "      <td>28327.0</td>\n",
       "    </tr>\n",
       "    <tr>\n",
       "      <th>Victoria Quay</th>\n",
       "      <td>25754.0</td>\n",
       "    </tr>\n",
       "    <tr>\n",
       "      <th>Canonmills</th>\n",
       "      <td>21350.0</td>\n",
       "    </tr>\n",
       "    <tr>\n",
       "      <th>Bristo Square</th>\n",
       "      <td>20597.0</td>\n",
       "    </tr>\n",
       "    <tr>\n",
       "      <th>St Andrew Square</th>\n",
       "      <td>20445.0</td>\n",
       "    </tr>\n",
       "    <tr>\n",
       "      <th>Meadow Place</th>\n",
       "      <td>20078.0</td>\n",
       "    </tr>\n",
       "    <tr>\n",
       "      <th>Leith Walk</th>\n",
       "      <td>18859.0</td>\n",
       "    </tr>\n",
       "    <tr>\n",
       "      <th>Duke Street</th>\n",
       "      <td>18442.0</td>\n",
       "    </tr>\n",
       "    <tr>\n",
       "      <th>Waverley Bridge</th>\n",
       "      <td>16806.0</td>\n",
       "    </tr>\n",
       "    <tr>\n",
       "      <th>Castle Street</th>\n",
       "      <td>16187.0</td>\n",
       "    </tr>\n",
       "    <tr>\n",
       "      <th>Pollock Halls</th>\n",
       "      <td>15949.0</td>\n",
       "    </tr>\n",
       "    <tr>\n",
       "      <th>Fountainbridge</th>\n",
       "      <td>15662.0</td>\n",
       "    </tr>\n",
       "    <tr>\n",
       "      <th>Cramond Foreshore</th>\n",
       "      <td>14412.0</td>\n",
       "    </tr>\n",
       "    <tr>\n",
       "      <th>Stockbridge</th>\n",
       "      <td>14344.0</td>\n",
       "    </tr>\n",
       "    <tr>\n",
       "      <th>Dundee Terrace</th>\n",
       "      <td>14100.0</td>\n",
       "    </tr>\n",
       "    <tr>\n",
       "      <th>Charlotte Square</th>\n",
       "      <td>13034.0</td>\n",
       "    </tr>\n",
       "    <tr>\n",
       "      <th>George Square</th>\n",
       "      <td>12176.0</td>\n",
       "    </tr>\n",
       "    <tr>\n",
       "      <th>Bruntsfield Links</th>\n",
       "      <td>11326.0</td>\n",
       "    </tr>\n",
       "    <tr>\n",
       "      <th>Tollcross</th>\n",
       "      <td>10944.0</td>\n",
       "    </tr>\n",
       "    <tr>\n",
       "      <th>Brunswick Place</th>\n",
       "      <td>10672.0</td>\n",
       "    </tr>\n",
       "    <tr>\n",
       "      <th>Dynamic Earth</th>\n",
       "      <td>10404.0</td>\n",
       "    </tr>\n",
       "    <tr>\n",
       "      <th>South Trinity Road</th>\n",
       "      <td>10315.0</td>\n",
       "    </tr>\n",
       "    <tr>\n",
       "      <th>Lauriston Place</th>\n",
       "      <td>9952.0</td>\n",
       "    </tr>\n",
       "    <tr>\n",
       "      <th>Abbeyhill</th>\n",
       "      <td>9883.0</td>\n",
       "    </tr>\n",
       "    <tr>\n",
       "      <th>Lothian Road</th>\n",
       "      <td>9395.0</td>\n",
       "    </tr>\n",
       "    <tr>\n",
       "      <th>Royal Commonwealth Pool</th>\n",
       "      <td>8791.0</td>\n",
       "    </tr>\n",
       "    <tr>\n",
       "      <th>Castle Terrace</th>\n",
       "      <td>8755.0</td>\n",
       "    </tr>\n",
       "    <tr>\n",
       "      <th>Kings Building 2</th>\n",
       "      <td>8614.0</td>\n",
       "    </tr>\n",
       "    <tr>\n",
       "      <th>Hillside Crescent</th>\n",
       "      <td>8601.0</td>\n",
       "    </tr>\n",
       "  </tbody>\n",
       "</table>\n",
       "</div>"
      ],
      "text/plain": [
       "                         total_sum\n",
       "station_name                      \n",
       "Meadows East               32447.0\n",
       "Portobello - Kings Road    28327.0\n",
       "Victoria Quay              25754.0\n",
       "Canonmills                 21350.0\n",
       "Bristo Square              20597.0\n",
       "St Andrew Square           20445.0\n",
       "Meadow Place               20078.0\n",
       "Leith Walk                 18859.0\n",
       "Duke Street                18442.0\n",
       "Waverley Bridge            16806.0\n",
       "Castle Street              16187.0\n",
       "Pollock Halls              15949.0\n",
       "Fountainbridge             15662.0\n",
       "Cramond Foreshore          14412.0\n",
       "Stockbridge                14344.0\n",
       "Dundee Terrace             14100.0\n",
       "Charlotte Square           13034.0\n",
       "George Square              12176.0\n",
       "Bruntsfield Links          11326.0\n",
       "Tollcross                  10944.0\n",
       "Brunswick Place            10672.0\n",
       "Dynamic Earth              10404.0\n",
       "South Trinity Road         10315.0\n",
       "Lauriston Place             9952.0\n",
       "Abbeyhill                   9883.0\n",
       "Lothian Road                9395.0\n",
       "Royal Commonwealth Pool     8791.0\n",
       "Castle Terrace              8755.0\n",
       "Kings Building 2            8614.0\n",
       "Hillside Crescent           8601.0"
      ]
     },
     "execution_count": 698,
     "metadata": {},
     "output_type": "execute_result"
    }
   ],
   "source": [
    "df1 = active_station[['station_name','total_sum']].set_index('station_name')\n",
    "the_most_frequenty_station = df1.sort_values(by=['total_sum'], ascending=False).head(30)\n",
    "the_most_frequenty_station"
   ]
  },
  {
   "cell_type": "markdown",
   "id": "dc8fea20",
   "metadata": {},
   "source": [
    "In the next step i am displaying horizontal bar chart of the most frequently stations."
   ]
  },
  {
   "cell_type": "code",
   "execution_count": 699,
   "id": "95bf6314",
   "metadata": {},
   "outputs": [
    {
     "data": {
      "image/png": "[encoded data removed]",
      "text/plain": [
       "<Figure size 720x720 with 1 Axes>"
      ]
     },
     "metadata": {
      "needs_background": "light"
     },
     "output_type": "display_data"
    }
   ],
   "source": [
    "x = the_most_frequenty_station.sort_values(by=['total_sum']).reset_index()['station_name']\n",
    "y = the_most_frequenty_station.sort_values(by=['total_sum'])['total_sum']\n",
    "\n",
    "fig = plt.figure(figsize=(10, 10))\n",
    "  \n",
    "plt.barh(x, y)\n",
    "plt.xlabel('Number of rented or returned bikes')\n",
    "plt.ylabel('Name of the station')\n",
    "plt.title('The most frequently stations', fontsize = 16)\n",
    "plt.grid()\n",
    "plt.show()"
   ]
  },
  {
   "cell_type": "markdown",
   "id": "3de4d577",
   "metadata": {},
   "source": [
    "# 3) Identify difference between rented and returned of bikes on stations"
   ]
  },
  {
   "cell_type": "markdown",
   "id": "9fd58619",
   "metadata": {},
   "source": [
    "Difference between rented and returned of bikes in stations is located in column called diff in created DataFrame called active_station. Column diff i count by formula (returned bikes - rented bikes = diff), so if diff is more then 0, bikes are acumulating in the station and if diff is less then 0, bikes are missing in the station."
   ]
  },
  {
   "cell_type": "code",
   "execution_count": 700,
   "id": "d1925fbe",
   "metadata": {},
   "outputs": [
    {
     "data": {
      "text/html": [
       "<div>\n",
       "<style scoped>\n",
       "    .dataframe tbody tr th:only-of-type {\n",
       "        vertical-align: middle;\n",
       "    }\n",
       "\n",
       "    .dataframe tbody tr th {\n",
       "        vertical-align: top;\n",
       "    }\n",
       "\n",
       "    .dataframe thead th {\n",
       "        text-align: right;\n",
       "    }\n",
       "</style>\n",
       "<table border=\"1\" class=\"dataframe\">\n",
       "  <thead>\n",
       "    <tr style=\"text-align: right;\">\n",
       "      <th></th>\n",
       "      <th>diff</th>\n",
       "    </tr>\n",
       "    <tr>\n",
       "      <th>station_name</th>\n",
       "      <th></th>\n",
       "    </tr>\n",
       "  </thead>\n",
       "  <tbody>\n",
       "    <tr>\n",
       "      <th>Bristo Square</th>\n",
       "      <td>-4939.0</td>\n",
       "    </tr>\n",
       "    <tr>\n",
       "      <th>St Andrew Square</th>\n",
       "      <td>-3865.0</td>\n",
       "    </tr>\n",
       "    <tr>\n",
       "      <th>Charlotte Square</th>\n",
       "      <td>-3150.0</td>\n",
       "    </tr>\n",
       "    <tr>\n",
       "      <th>City Chambers</th>\n",
       "      <td>-3111.0</td>\n",
       "    </tr>\n",
       "    <tr>\n",
       "      <th>Marchmont Crescent</th>\n",
       "      <td>-3073.0</td>\n",
       "    </tr>\n",
       "    <tr>\n",
       "      <th>...</th>\n",
       "      <td>...</td>\n",
       "    </tr>\n",
       "    <tr>\n",
       "      <th>Waitrose Comely Bank</th>\n",
       "      <td>2856.0</td>\n",
       "    </tr>\n",
       "    <tr>\n",
       "      <th>Leith Walk</th>\n",
       "      <td>3003.0</td>\n",
       "    </tr>\n",
       "    <tr>\n",
       "      <th>Duke Street</th>\n",
       "      <td>3948.0</td>\n",
       "    </tr>\n",
       "    <tr>\n",
       "      <th>Victoria Quay</th>\n",
       "      <td>4522.0</td>\n",
       "    </tr>\n",
       "    <tr>\n",
       "      <th>Portobello - Kings Road</th>\n",
       "      <td>4789.0</td>\n",
       "    </tr>\n",
       "  </tbody>\n",
       "</table>\n",
       "<p>88 rows × 1 columns</p>\n",
       "</div>"
      ],
      "text/plain": [
       "                           diff\n",
       "station_name                   \n",
       "Bristo Square           -4939.0\n",
       "St Andrew Square        -3865.0\n",
       "Charlotte Square        -3150.0\n",
       "City Chambers           -3111.0\n",
       "Marchmont Crescent      -3073.0\n",
       "...                         ...\n",
       "Waitrose Comely Bank     2856.0\n",
       "Leith Walk               3003.0\n",
       "Duke Street              3948.0\n",
       "Victoria Quay            4522.0\n",
       "Portobello - Kings Road  4789.0\n",
       "\n",
       "[88 rows x 1 columns]"
      ]
     },
     "execution_count": 700,
     "metadata": {},
     "output_type": "execute_result"
    }
   ],
   "source": [
    "df1 = active_station[['station_name','diff']].set_index('station_name')\n",
    "df1.sort_values(by=['diff'])"
   ]
  },
  {
   "cell_type": "markdown",
   "id": "733ac173",
   "metadata": {},
   "source": [
    "Now i will display stations in the horizontal bar chart, which have diff more then 500 or less then -500. Stations with positive diff will have blue color and stations with negative diff will have red color."
   ]
  },
  {
   "cell_type": "code",
   "execution_count": 701,
   "id": "bbc6c48c",
   "metadata": {},
   "outputs": [
    {
     "data": {
      "image/png": "[encoded data removed]",
      "text/plain": [
       "<Figure size 720x720 with 1 Axes>"
      ]
     },
     "metadata": {
      "needs_background": "light"
     },
     "output_type": "display_data"
    }
   ],
   "source": [
    "def bar_color(y,color1,color2):\n",
    "    return np.where(y>0,color1,color2)\n",
    "\n",
    "x = df1[(df1['diff'] > 500) | (df1['diff'] < -500)].reset_index()['station_name']\n",
    "y = df1[(df1['diff'] > 500) | (df1['diff'] < -500)]['diff']\n",
    "\n",
    "fig = plt.figure(figsize=(10, 10))\n",
    "  \n",
    "plt.barh(x, y, color = bar_color(y,'b','r'), edgecolor = 'black')\n",
    "plt.xlabel('Difference between rented and returned of bikes')\n",
    "plt.ylabel('Name of the station')\n",
    "plt.title('Difference between rented and returned of bikes on stations')\n",
    "plt.axvline(0, color='k', linewidth=1)\n",
    "plt.grid()\n",
    "plt.show()\n",
    "\n"
   ]
  },
  {
   "cell_type": "markdown",
   "id": "3aebb4d4",
   "metadata": {},
   "source": [
    "The most of missing bikes are in the Bristo Square station and the most of accumulating bikes are in the Portobello - Kings Road station."
   ]
  },
  {
   "cell_type": "markdown",
   "id": "ccc40688",
   "metadata": {},
   "source": [
    "# 4) Calculate distances between particular stations"
   ]
  },
  {
   "cell_type": "markdown",
   "id": "3e11d2cf",
   "metadata": {},
   "source": [
    "For calculating distance between stations i  made function which allow calculating distance through geographic coordinates."
   ]
  },
  {
   "cell_type": "code",
   "execution_count": 702,
   "id": "c99c10ae",
   "metadata": {},
   "outputs": [],
   "source": [
    "def Distance(latitude1, latitude2, longitude1, longitude2):\n",
    "\n",
    "    R = 6371\n",
    "    \n",
    "    lat1 = np.radians(latitude1)\n",
    "    lat2 = np.radians(latitude2)\n",
    "    \n",
    "    long1 = np.radians(longitude1)\n",
    "    long2 = np.radians(longitude2)\n",
    "    \n",
    "    lat_diff = lat1 - lat2\n",
    "    long_diff = long1 - long2\n",
    "    \n",
    "    a = np.sin(lat_diff / 2)**2 + np.sin(long_diff / 2)**2 * np.cos(lat1) * np.cos(lat2)\n",
    "    c = 2 * np.arctan2(np.sqrt(a), np.sqrt(1 - a))\n",
    "    d = R * c\n",
    "\n",
    "    return d"
   ]
  },
  {
   "cell_type": "markdown",
   "id": "fab24330",
   "metadata": {},
   "source": [
    "To calculate the distances between the individual stations i will have to use a cross merge between two identical DataFrrames called list_of_station to create a new DataFrame for next work.\n",
    "\n",
    "In the next step i will use my distance function in 'for loap' for calculating distance between all stations."
   ]
  },
  {
   "cell_type": "code",
   "execution_count": 703,
   "id": "1da155da",
   "metadata": {},
   "outputs": [],
   "source": [
    "df1 = list_of_station[['station_name','station_latitude','station_longitude']]\n",
    "df2 = pd.merge(df1,df1,how='cross')\n",
    "\n",
    "df2['distance'] = 0\n",
    "for i in range(df2.index.size):\n",
    "    df2.iloc[i,6] = Distance(df2.iloc[i,1],df2.iloc[i,4],df2.iloc[i,2],df2.iloc[i,5])\n"
   ]
  },
  {
   "cell_type": "markdown",
   "id": "74c8dbd3",
   "metadata": {},
   "source": [
    "Now i using .describe() function for find out descriptive statistics about calculated distances. Calculated distance is in km.\n"
   ]
  },
  {
   "cell_type": "code",
   "execution_count": 704,
   "id": "4e9476b5",
   "metadata": {
    "scrolled": true
   },
   "outputs": [
    {
     "data": {
      "text/plain": [
       "count    40000.000000\n",
       "mean         7.603254\n",
       "std         28.010556\n",
       "min          0.000000\n",
       "25%          2.017925\n",
       "50%          3.552411\n",
       "75%          6.952364\n",
       "max        290.060418\n",
       "Name: distance, dtype: float64"
      ]
     },
     "execution_count": 704,
     "metadata": {},
     "output_type": "execute_result"
    }
   ],
   "source": [
    "df2['distance'].describe()"
   ]
  },
  {
   "cell_type": "markdown",
   "id": "93cca619",
   "metadata": {},
   "source": [
    "We can see the min value is 0. It is becuase some distances was calculeted between identical stations. So i will drop rows, where are distance is 0. But we can also see that max distance is  290 km and it means then some stations are far from Edinburh.\n",
    "\n",
    "Now i will display box plot for identify outliers."
   ]
  },
  {
   "cell_type": "code",
   "execution_count": 705,
   "id": "4e1624b6",
   "metadata": {
    "scrolled": true
   },
   "outputs": [
    {
     "data": {
      "image/png": "[encoded data removed]",
      "text/plain": [
       "<Figure size 432x288 with 1 Axes>"
      ]
     },
     "metadata": {
      "needs_background": "light"
     },
     "output_type": "display_data"
    }
   ],
   "source": [
    "fig, ax = plt.subplots()\n",
    "ax.boxplot(df2['distance'])\n",
    "ax.set_title('Distances between stations')\n",
    "plt.show()"
   ]
  },
  {
   "cell_type": "markdown",
   "id": "9059ac3c",
   "metadata": {},
   "source": [
    "From this box plot i can see that outliers are locate more then 250 km. So now i will set conditions for distances. Distance must be more then 0 and less then 250 km."
   ]
  },
  {
   "cell_type": "code",
   "execution_count": 706,
   "id": "6884c289",
   "metadata": {},
   "outputs": [],
   "source": [
    "df3 = df2[(df2['distance'] > 0) & (df2['distance'] < 250)]"
   ]
  },
  {
   "cell_type": "code",
   "execution_count": 707,
   "id": "eb9c8a2c",
   "metadata": {},
   "outputs": [
    {
     "data": {
      "image/png": "[encoded data removed]",
      "text/plain": [
       "<Figure size 1080x360 with 2 Axes>"
      ]
     },
     "metadata": {
      "needs_background": "light"
     },
     "output_type": "display_data"
    },
    {
     "name": "stdout",
     "output_type": "stream",
     "text": [
      "count    39402.000000\n",
      "mean         4.845977\n",
      "std          3.830956\n",
      "min          0.000375\n",
      "25%          2.023157\n",
      "50%          3.531953\n",
      "75%          6.820408\n",
      "max         22.382130\n",
      "Name: distance, dtype: float64\n"
     ]
    }
   ],
   "source": [
    "fig = plt.figure(figsize=(15,5))\n",
    "fig.suptitle('Distances between stations', fontsize=16)\n",
    "\n",
    "ax1 = plt.subplot2grid((1,2), (0,0), fig=fig)\n",
    "ax1.hist(df3['distance'], edgecolor='black')\n",
    "ax1.set_xlabel('distance [km]')\n",
    "\n",
    "ax2 = plt.subplot2grid((1,2), (0,1), fig=fig)\n",
    "ax2.boxplot(df3['distance'])\n",
    "ax2.set_ylabel('distance [km]')\n",
    "\n",
    "plt.show()\n",
    "\n",
    "print(df3['distance'].describe())\n"
   ]
  },
  {
   "cell_type": "markdown",
   "id": "42d4e183",
   "metadata": {},
   "source": [
    "# 5) What is the usual duration of bike rent?"
   ]
  },
  {
   "cell_type": "markdown",
   "id": "6cfca477",
   "metadata": {},
   "source": [
    "In the first step i will transform duration from the seconds to the minutes."
   ]
  },
  {
   "cell_type": "code",
   "execution_count": 708,
   "id": "3d4ad7d3",
   "metadata": {},
   "outputs": [],
   "source": [
    "df = edinburgh_bikes_df\n",
    "df['duration'] = df['duration'].transform(lambda x: x/60)"
   ]
  },
  {
   "cell_type": "markdown",
   "id": "908ca73f",
   "metadata": {},
   "source": [
    "Now i using .describe() function for find out descriptive statistics about duration."
   ]
  },
  {
   "cell_type": "code",
   "execution_count": 709,
   "id": "ee1e3214",
   "metadata": {
    "scrolled": true
   },
   "outputs": [
    {
     "data": {
      "text/plain": [
       "count    438259.000000\n",
       "mean         32.480634\n",
       "std          94.285580\n",
       "min           1.016667\n",
       "25%          10.400000\n",
       "50%          19.383333\n",
       "75%          42.150000\n",
       "max       39389.133333\n",
       "Name: duration, dtype: float64"
      ]
     },
     "execution_count": 709,
     "metadata": {},
     "output_type": "execute_result"
    }
   ],
   "source": [
    "df['duration'].describe()"
   ]
  },
  {
   "cell_type": "markdown",
   "id": "47c30d88",
   "metadata": {},
   "source": [
    "From this descriptive statistics i can see a very huge difference between 75% quartile and max value. It can means then couple of values are far from others. \n",
    "Now i will  display boxplot with max value set on 99% quantile."
   ]
  },
  {
   "cell_type": "code",
   "execution_count": 710,
   "id": "e4cb1b72",
   "metadata": {
    "scrolled": false
   },
   "outputs": [
    {
     "data": {
      "image/png": "[encoded data removed]",
      "text/plain": [
       "<Figure size 432x288 with 1 Axes>"
      ]
     },
     "metadata": {
      "needs_background": "light"
     },
     "output_type": "display_data"
    },
    {
     "name": "stdout",
     "output_type": "stream",
     "text": [
      "count    433876.000000\n",
      "mean         29.335606\n",
      "std          27.767296\n",
      "min           1.016667\n",
      "25%          10.333333\n",
      "50%          19.133333\n",
      "75%          41.166667\n",
      "max         186.466667\n",
      "Name: duration, dtype: float64\n"
     ]
    }
   ],
   "source": [
    "q = df['duration'].quantile(0.99)\n",
    "df1 = df[df['duration'] < q]\n",
    "plt.boxplot(df1['duration'], showmeans=True)\n",
    "plt.show()\n",
    "\n",
    "print(df1['duration'].describe())"
   ]
  },
  {
   "cell_type": "markdown",
   "id": "5cfb231d",
   "metadata": {},
   "source": [
    "Now descriptive statistics looks better. So let's start to display histogram."
   ]
  },
  {
   "cell_type": "code",
   "execution_count": 711,
   "id": "c59acb83",
   "metadata": {},
   "outputs": [
    {
     "data": {
      "image/png": "[encoded data removed]",
      "text/plain": [
       "<Figure size 432x288 with 1 Axes>"
      ]
     },
     "metadata": {
      "needs_background": "light"
     },
     "output_type": "display_data"
    }
   ],
   "source": [
    "plt.hist(df1['duration'], bins=30, edgecolor='black')\n",
    "plt.title('Histogram of duration', fontsize='14')\n",
    "plt.xlabel('duration [min]',fontsize=14)\n",
    "plt.ylabel('Number of occurrences')\n",
    "plt.axvline(df1['duration'].mean(), color='k', linestyle='dashed', linewidth=1)\n",
    "plt.axvline(df1['duration'].max(), color='k', linestyle='dashed', linewidth=1)\n",
    "min_ylim, max_ylim = plt.ylim()\n",
    "plt.text(df1['duration'].mean()*1.1, max_ylim*0.9, 'Mean: {:.2f}'.format(df1['duration'].mean()))\n",
    "plt.text(df1['duration'].max()*0.78, max_ylim*0.9, 'Max: {:.2f}'.format(df1['duration'].max()))\n",
    "plt.show()"
   ]
  },
  {
   "cell_type": "markdown",
   "id": "d1457ed4",
   "metadata": {},
   "source": [
    "# 6) Development of demand for bicycle rental over time "
   ]
  },
  {
   "cell_type": "code",
   "execution_count": 712,
   "id": "04e6410e",
   "metadata": {},
   "outputs": [
    {
     "data": {
      "image/png": "[encoded data removed]",
      "text/plain": [
       "<Figure size 864x432 with 1 Axes>"
      ]
     },
     "metadata": {
      "needs_background": "light"
     },
     "output_type": "display_data"
    }
   ],
   "source": [
    "df1 = edinburgh_bikes_df[['date','duration']].groupby('date')['duration'].count().reset_index().set_index('date')\n",
    "df1 = df1.cumsum().reset_index()\n",
    "\n",
    "fig, ax = plt.subplots(figsize=(12,6))\n",
    "ax.plot(df1['date'],df1['duration'])\n",
    "ax.set_title('Demand for lending bicycles', fontsize=20)\n",
    "ax.set_xlabel('Timeline', fontsize=20)\n",
    "ax.set_ylabel('Number of lending', fontsize=20)\n",
    "ax.xaxis.set_major_locator(mdates.MonthLocator(interval=3))\n",
    "ax.xaxis.set_major_formatter(mdates.DateFormatter('%b\\n%Y'))\n",
    "ax.grid()\n",
    "plt.tight_layout()\n",
    "plt.show()"
   ]
  },
  {
   "cell_type": "markdown",
   "id": "07eb9e97",
   "metadata": {},
   "source": [
    "# 7) Identify the causes of demand fluctuations"
   ]
  },
  {
   "cell_type": "markdown",
   "id": "dc4f6f1e",
   "metadata": {},
   "source": [
    "I will try to find causes of demand fluctuation during day, week and year. For this i will need to preparing another four columns (year, month, day_of_week and time). "
   ]
  },
  {
   "cell_type": "code",
   "execution_count": 713,
   "id": "054fccff",
   "metadata": {},
   "outputs": [],
   "source": [
    "edinburgh_bikes_df['year'] = pd.to_datetime(edinburgh_bikes_df['date']).dt.year\n",
    "edinburgh_bikes_df['month'] = pd.to_datetime(edinburgh_bikes_df['date']).dt.month\n",
    "edinburgh_bikes_df['day_of_week'] = pd.to_datetime(edinburgh_bikes_df['date']).dt.dayofweek\n",
    "edinburgh_bikes_df['time'] = pd.to_datetime(edinburgh_bikes_df['started_at']).dt.strftime('%H').apply(int)"
   ]
  },
  {
   "cell_type": "markdown",
   "id": "bdae4c3c",
   "metadata": {},
   "source": [
    "When i have prepared data i can create four DataFrames for creating line charts.\n",
    "\n",
    "df_work_day - for this DataFrame i counted average demand for each hour in work day.\n",
    "\n",
    "df_weekend_day - for this DataFrame i counted average demand for each hour in weekend day.\n",
    "\n",
    "df_day_of_week - for this DataFrame i counted average demand for each day in week.\n",
    "\n",
    "df_month - for this DataFrame i counted average demand for each month of the year."
   ]
  },
  {
   "cell_type": "code",
   "execution_count": 714,
   "id": "f5af88d2",
   "metadata": {},
   "outputs": [],
   "source": [
    "number_of_days = edinburgh_bikes_df.groupby('date').count().index.size\n",
    "\n",
    "df_work_day = (edinburgh_bikes_df\n",
    "               .query('day_of_week < 5')\n",
    "               [['time','duration']].groupby('time')\n",
    "               .agg({'duration': lambda x: x.count()/((number_of_days / 7) * 5)})\n",
    "               .reset_index()\n",
    "              )\n",
    "df_weekend_day = (edinburgh_bikes_df\n",
    "                  .query('day_of_week >= 5')\n",
    "                  [['time','duration']].groupby('time')\n",
    "                  .agg({'duration': lambda x: x.count()/((number_of_days / 7) * 2)})\n",
    "                  .reset_index()\n",
    "                 )\n",
    "df_week = (edinburgh_bikes_df\n",
    "           [['day_of_week','duration']].groupby('day_of_week')\n",
    "           .agg({'duration': lambda x: x.count()/(number_of_days / 7)})\n",
    "           .reset_index()\n",
    "          )\n",
    "df_month = (edinburgh_bikes_df\n",
    "            .query('(year > 2018 and year < 2021)')\n",
    "            [['month','duration']].groupby('month')\n",
    "            .agg({'duration': lambda x: x.count()/2})\n",
    "            .reset_index()\n",
    "           )"
   ]
  },
  {
   "cell_type": "markdown",
   "id": "3d823936",
   "metadata": {},
   "source": [
    "Now i can create a line charts.\n",
    "\n",
    "In the first line chart i will display fluctuation of demand in work and weekend day, where we will can see a difference between them.\n",
    "\n",
    "In the second line chart i will display fluctuation of demand in days of the week.\n",
    "\n",
    "In the last of line chart i will display fluctuation of demand in months of the year."
   ]
  },
  {
   "cell_type": "code",
   "execution_count": 715,
   "id": "65b728af",
   "metadata": {
    "scrolled": true
   },
   "outputs": [
    {
     "data": {
      "image/png": "[encoded data removed]",
      "text/plain": [
       "<Figure size 864x576 with 3 Axes>"
      ]
     },
     "metadata": {
      "needs_background": "light"
     },
     "output_type": "display_data"
    }
   ],
   "source": [
    "days_of_week = ['Monday', 'Tuesday', 'Wednesday', 'Thursday', 'Friday', 'Saturday', 'Sunday']\n",
    "months = ['January', 'February', 'March', 'April', 'May', 'June', 'July', 'August', 'September', 'October', 'November', 'December']\n",
    "\n",
    "fig = plt.figure(figsize=(12,8))\n",
    "fig.suptitle('Fluctuations in demand', fontsize=16)\n",
    "\n",
    "ax1 = plt.subplot2grid((2,2), (0,0), fig=fig, colspan=2)\n",
    "ax1.plot(df_work_day['time'],df_work_day['duration'])\n",
    "ax1.plot(df_weekend_day['time'],df_weekend_day['duration'])\n",
    "ax1.set_title('Hours of the day')\n",
    "ax1.set_xlabel('Time[hours]')\n",
    "ax1.xaxis.set_ticks(np.arange(0, 24, 1))\n",
    "ax1.yaxis.set_ticks(np.arange(0, 50, 5))\n",
    "ax1.legend(['Work day', 'Weekend day'],fontsize=14)\n",
    "\n",
    "ax3 = plt.subplot2grid((2,2), (1,0), fig=fig)\n",
    "ax3.plot(df_week['day_of_week'],df_week['duration'])\n",
    "ax3.set_title('Days of the week')\n",
    "ax3.xaxis.set_ticks(np.arange(0, 7, 1))\n",
    "ax3.set_xticklabels(days_of_week, rotation=45, ha='right')\n",
    "ax3.yaxis.set_ticks(np.arange(400, 490, 10))\n",
    "\n",
    "ax4 = plt.subplot2grid((2,2), (1,1), fig=fig)\n",
    "ax4.plot(df_month['month'],df_month['duration'])\n",
    "ax4.set_title('Months of the year')\n",
    "ax4.xaxis.set_ticks(np.arange(1, 13, 1))\n",
    "ax4.set_xticklabels(months, rotation=45, ha='right')\n",
    "\n",
    "for ax in (ax1, ax2, ax3, ax4):\n",
    "    \n",
    "    ax.set_ylabel('The amount of demand')\n",
    "    ax.grid()\n",
    "\n",
    "plt.tight_layout()\n",
    "plt.show()\n"
   ]
  },
  {
   "cell_type": "markdown",
   "id": "f164570b",
   "metadata": {},
   "source": [
    "From these graphs it is possible to idenfity fluctuations in demand during the day, week and year.\n",
    "\n",
    "During the day, demand increases in the morning and begins to decline in the afternoon. In the morning and evening, the demand is higher on a working day, while the forenoon and afternoon demand is lower on a working day. The reason for these differences is probably working hours, when a lot of people are at work.\n",
    "\n",
    "During the week, the lowest demand is on Monday. But then it gradually growth during the week. The biggest demand is on Saturday.\n",
    "\n",
    "Demand during the year depends on temperature differences. The biggest demand is in the summer months and the lowest is in the winter months."
   ]
  },
  {
   "cell_type": "markdown",
   "id": "7ff9ab52",
   "metadata": {},
   "source": [
    "# 8) Influence of weather on demand"
   ]
  },
  {
   "cell_type": "markdown",
   "id": "445cd7c4",
   "metadata": {},
   "source": [
    "To determine the effect of weather on demand, it is necessary to use a second dataset called 'edinburgh_weather_df'. First I create new columns in the dataset so that I can merge both datasets into one. I decided to combine datasets by date and time. The dataset 'edinburgh_weather_df' has values recorded after three hours, so I created a new column 'time_interval', which I will then create in the dataset 'edinburgh_bikes_df'.\n",
    "\n",
    "Next, I had to remove the units in the columns so that I could convert the values to int and continue to work with them."
   ]
  },
  {
   "cell_type": "code",
   "execution_count": 716,
   "id": "a61488d3",
   "metadata": {},
   "outputs": [
    {
     "data": {
      "text/html": [
       "<div>\n",
       "<style scoped>\n",
       "    .dataframe tbody tr th:only-of-type {\n",
       "        vertical-align: middle;\n",
       "    }\n",
       "\n",
       "    .dataframe tbody tr th {\n",
       "        vertical-align: top;\n",
       "    }\n",
       "\n",
       "    .dataframe thead th {\n",
       "        text-align: right;\n",
       "    }\n",
       "</style>\n",
       "<table border=\"1\" class=\"dataframe\">\n",
       "  <thead>\n",
       "    <tr style=\"text-align: right;\">\n",
       "      <th></th>\n",
       "      <th>temp[°c]</th>\n",
       "      <th>feels[°c]</th>\n",
       "      <th>wind[km/h]</th>\n",
       "      <th>gust[km/h]</th>\n",
       "      <th>rain[mm]</th>\n",
       "      <th>humidity[%]</th>\n",
       "      <th>cloud[%]</th>\n",
       "      <th>pressure[mb]</th>\n",
       "      <th>vis</th>\n",
       "      <th>date</th>\n",
       "      <th>time_interval</th>\n",
       "    </tr>\n",
       "  </thead>\n",
       "  <tbody>\n",
       "    <tr>\n",
       "      <th>0</th>\n",
       "      <td>11</td>\n",
       "      <td>11</td>\n",
       "      <td>9</td>\n",
       "      <td>19</td>\n",
       "      <td>0.0</td>\n",
       "      <td>79</td>\n",
       "      <td>13</td>\n",
       "      <td>1020</td>\n",
       "      <td>Excellent</td>\n",
       "      <td>2018-09-01</td>\n",
       "      <td>[0, 3)</td>\n",
       "    </tr>\n",
       "    <tr>\n",
       "      <th>1</th>\n",
       "      <td>13</td>\n",
       "      <td>12</td>\n",
       "      <td>11</td>\n",
       "      <td>19</td>\n",
       "      <td>0.0</td>\n",
       "      <td>76</td>\n",
       "      <td>96</td>\n",
       "      <td>1020</td>\n",
       "      <td>Excellent</td>\n",
       "      <td>2018-09-01</td>\n",
       "      <td>[3, 6)</td>\n",
       "    </tr>\n",
       "    <tr>\n",
       "      <th>2</th>\n",
       "      <td>14</td>\n",
       "      <td>13</td>\n",
       "      <td>11</td>\n",
       "      <td>19</td>\n",
       "      <td>0.0</td>\n",
       "      <td>84</td>\n",
       "      <td>100</td>\n",
       "      <td>1020</td>\n",
       "      <td>Excellent</td>\n",
       "      <td>2018-09-01</td>\n",
       "      <td>[6, 9)</td>\n",
       "    </tr>\n",
       "    <tr>\n",
       "      <th>3</th>\n",
       "      <td>14</td>\n",
       "      <td>13</td>\n",
       "      <td>14</td>\n",
       "      <td>23</td>\n",
       "      <td>0.1</td>\n",
       "      <td>88</td>\n",
       "      <td>78</td>\n",
       "      <td>1021</td>\n",
       "      <td>Excellent</td>\n",
       "      <td>2018-09-01</td>\n",
       "      <td>[9, 12)</td>\n",
       "    </tr>\n",
       "    <tr>\n",
       "      <th>4</th>\n",
       "      <td>16</td>\n",
       "      <td>16</td>\n",
       "      <td>15</td>\n",
       "      <td>22</td>\n",
       "      <td>0.0</td>\n",
       "      <td>87</td>\n",
       "      <td>87</td>\n",
       "      <td>1021</td>\n",
       "      <td>Excellent</td>\n",
       "      <td>2018-09-01</td>\n",
       "      <td>[12, 15)</td>\n",
       "    </tr>\n",
       "    <tr>\n",
       "      <th>...</th>\n",
       "      <td>...</td>\n",
       "      <td>...</td>\n",
       "      <td>...</td>\n",
       "      <td>...</td>\n",
       "      <td>...</td>\n",
       "      <td>...</td>\n",
       "      <td>...</td>\n",
       "      <td>...</td>\n",
       "      <td>...</td>\n",
       "      <td>...</td>\n",
       "      <td>...</td>\n",
       "    </tr>\n",
       "    <tr>\n",
       "      <th>6331</th>\n",
       "      <td>14</td>\n",
       "      <td>12</td>\n",
       "      <td>21</td>\n",
       "      <td>33</td>\n",
       "      <td>0.4</td>\n",
       "      <td>86</td>\n",
       "      <td>100</td>\n",
       "      <td>993</td>\n",
       "      <td>Poor</td>\n",
       "      <td>2020-10-31</td>\n",
       "      <td>[9, 12)</td>\n",
       "    </tr>\n",
       "    <tr>\n",
       "      <th>6332</th>\n",
       "      <td>14</td>\n",
       "      <td>12</td>\n",
       "      <td>24</td>\n",
       "      <td>37</td>\n",
       "      <td>0.4</td>\n",
       "      <td>88</td>\n",
       "      <td>94</td>\n",
       "      <td>987</td>\n",
       "      <td>Poor</td>\n",
       "      <td>2020-10-31</td>\n",
       "      <td>[12, 15)</td>\n",
       "    </tr>\n",
       "    <tr>\n",
       "      <th>6333</th>\n",
       "      <td>10</td>\n",
       "      <td>6</td>\n",
       "      <td>42</td>\n",
       "      <td>55</td>\n",
       "      <td>0.5</td>\n",
       "      <td>75</td>\n",
       "      <td>100</td>\n",
       "      <td>989</td>\n",
       "      <td>Excellent</td>\n",
       "      <td>2020-10-31</td>\n",
       "      <td>[15, 18)</td>\n",
       "    </tr>\n",
       "    <tr>\n",
       "      <th>6334</th>\n",
       "      <td>9</td>\n",
       "      <td>5</td>\n",
       "      <td>38</td>\n",
       "      <td>54</td>\n",
       "      <td>0.0</td>\n",
       "      <td>76</td>\n",
       "      <td>79</td>\n",
       "      <td>994</td>\n",
       "      <td>Excellent</td>\n",
       "      <td>2020-10-31</td>\n",
       "      <td>[18, 21)</td>\n",
       "    </tr>\n",
       "    <tr>\n",
       "      <th>6335</th>\n",
       "      <td>8</td>\n",
       "      <td>4</td>\n",
       "      <td>36</td>\n",
       "      <td>49</td>\n",
       "      <td>0.1</td>\n",
       "      <td>74</td>\n",
       "      <td>79</td>\n",
       "      <td>997</td>\n",
       "      <td>Excellent</td>\n",
       "      <td>2020-10-31</td>\n",
       "      <td>[21, 24)</td>\n",
       "    </tr>\n",
       "  </tbody>\n",
       "</table>\n",
       "<p>6336 rows × 11 columns</p>\n",
       "</div>"
      ],
      "text/plain": [
       "      temp[°c]  feels[°c]  wind[km/h]  gust[km/h]  rain[mm]  humidity[%]  \\\n",
       "0           11         11           9          19       0.0           79   \n",
       "1           13         12          11          19       0.0           76   \n",
       "2           14         13          11          19       0.0           84   \n",
       "3           14         13          14          23       0.1           88   \n",
       "4           16         16          15          22       0.0           87   \n",
       "...        ...        ...         ...         ...       ...          ...   \n",
       "6331        14         12          21          33       0.4           86   \n",
       "6332        14         12          24          37       0.4           88   \n",
       "6333        10          6          42          55       0.5           75   \n",
       "6334         9          5          38          54       0.0           76   \n",
       "6335         8          4          36          49       0.1           74   \n",
       "\n",
       "      cloud[%]  pressure[mb]        vis        date time_interval  \n",
       "0           13          1020  Excellent  2018-09-01        [0, 3)  \n",
       "1           96          1020  Excellent  2018-09-01        [3, 6)  \n",
       "2          100          1020  Excellent  2018-09-01        [6, 9)  \n",
       "3           78          1021  Excellent  2018-09-01       [9, 12)  \n",
       "4           87          1021  Excellent  2018-09-01      [12, 15)  \n",
       "...        ...           ...        ...         ...           ...  \n",
       "6331       100           993       Poor  2020-10-31       [9, 12)  \n",
       "6332        94           987       Poor  2020-10-31      [12, 15)  \n",
       "6333       100           989  Excellent  2020-10-31      [15, 18)  \n",
       "6334        79           994  Excellent  2020-10-31      [18, 21)  \n",
       "6335        79           997  Excellent  2020-10-31      [21, 24)  \n",
       "\n",
       "[6336 rows x 11 columns]"
      ]
     },
     "execution_count": 716,
     "metadata": {},
     "output_type": "execute_result"
    }
   ],
   "source": [
    "edinburgh_weather_df['clean_hours'] = (edinburgh_weather_df.time.apply(lambda x: pd.to_datetime(x).strftime('%H'))).apply(int)\n",
    "edinburgh_weather_df['time_interval'] = pd.cut(edinburgh_weather_df['clean_hours'],[0,3,6,9,12,15,18,21,24],right=False)\n",
    "edinburgh_weather_df['date'] = pd.to_datetime(edinburgh_weather_df['date']).dt.date\n",
    "df1 = edinburgh_weather_df.rename(columns={'temp':'temp[°c]',\n",
    "                                           'feels':'feels[°c]',\n",
    "                                           'wind':'wind[km/h]',\n",
    "                                           'gust':'gust[km/h]',\n",
    "                                           'rain':'rain[mm]',\n",
    "                                           'humidity':'humidity[%]',\n",
    "                                           'cloud':'cloud[%]',\n",
    "                                           'pressure':'pressure[mb]'\n",
    "                                          })\n",
    "\n",
    "df1['temp[°c]'] = df1['temp[°c]'].replace('°c','*1',regex=True).apply(pd.eval)\n",
    "df1['feels[°c]'] = df1['feels[°c]'].replace('°c','*1',regex=True).apply(pd.eval)\n",
    "df1['wind[km/h]'] = df1['wind[km/h]'].str.split('k').str[0].apply(pd.eval)\n",
    "df1['gust[km/h]'] = df1['gust[km/h]'].replace('km/h','*1',regex=True).apply(pd.eval)\n",
    "df1['rain[mm]'] = df1['rain[mm]'].replace('mm','*1',regex=True).apply(pd.eval)\n",
    "df1['humidity[%]'] = df1['humidity[%]'].replace('%','*1',regex=True).apply(pd.eval)\n",
    "df1['cloud[%]'] = df1['cloud[%]'].replace('%','*1',regex=True).apply(pd.eval)\n",
    "df1['pressure[mb]'] = df1['pressure[mb]'].replace('mb','*1',regex=True).apply(pd.eval)\n",
    "\n",
    "df1.drop(columns=['time','clean_hours'], inplace=True)\n",
    "df1"
   ]
  },
  {
   "cell_type": "markdown",
   "id": "f9d547f4",
   "metadata": {},
   "source": [
    "Here I created a new column in the dataset 'edinburgh_bikes_df'. I named the column 'time_interval' as in the previous dataset. Then I grouped the dataset through the 'date' and 'time_interval' columns and counted the number of loans for each interval on each day."
   ]
  },
  {
   "cell_type": "code",
   "execution_count": 717,
   "id": "d26828b3",
   "metadata": {},
   "outputs": [
    {
     "name": "stdout",
     "output_type": "stream",
     "text": [
      "<class 'pandas.core.frame.DataFrame'>\n",
      "Int64Index: 438259 entries, 0 to 438258\n",
      "Data columns (total 19 columns):\n",
      " #   Column                     Non-Null Count   Dtype  \n",
      "---  ------                     --------------   -----  \n",
      " 0   index                      438259 non-null  int64  \n",
      " 1   started_at                 438259 non-null  object \n",
      " 2   ended_at                   438259 non-null  object \n",
      " 3   duration                   438259 non-null  float64\n",
      " 4   start_station_id           438259 non-null  int64  \n",
      " 5   start_station_name         438259 non-null  object \n",
      " 6   start_station_description  438259 non-null  object \n",
      " 7   start_station_latitude     438259 non-null  float64\n",
      " 8   start_station_longitude    438259 non-null  float64\n",
      " 9   end_station_id             438259 non-null  int64  \n",
      " 10  end_station_name           438259 non-null  object \n",
      " 11  end_station_description    438259 non-null  object \n",
      " 12  end_station_latitude       438259 non-null  float64\n",
      " 13  end_station_longitude      438259 non-null  float64\n",
      " 14  date                       438259 non-null  object \n",
      " 15  year                       438259 non-null  int64  \n",
      " 16  month                      438259 non-null  int64  \n",
      " 17  day_of_week                438259 non-null  int64  \n",
      " 18  time                       438259 non-null  int64  \n",
      "dtypes: float64(5), int64(7), object(7)\n",
      "memory usage: 66.9+ MB\n"
     ]
    }
   ],
   "source": [
    "edinburgh_bikes_df.info()"
   ]
  },
  {
   "cell_type": "code",
   "execution_count": 718,
   "id": "9b7bd7cb",
   "metadata": {
    "scrolled": true
   },
   "outputs": [
    {
     "data": {
      "text/html": [
       "<div>\n",
       "<style scoped>\n",
       "    .dataframe tbody tr th:only-of-type {\n",
       "        vertical-align: middle;\n",
       "    }\n",
       "\n",
       "    .dataframe tbody tr th {\n",
       "        vertical-align: top;\n",
       "    }\n",
       "\n",
       "    .dataframe thead th {\n",
       "        text-align: right;\n",
       "    }\n",
       "</style>\n",
       "<table border=\"1\" class=\"dataframe\">\n",
       "  <thead>\n",
       "    <tr style=\"text-align: right;\">\n",
       "      <th></th>\n",
       "      <th>date</th>\n",
       "      <th>time_interval</th>\n",
       "      <th>duration</th>\n",
       "    </tr>\n",
       "  </thead>\n",
       "  <tbody>\n",
       "    <tr>\n",
       "      <th>0</th>\n",
       "      <td>2018-09-15</td>\n",
       "      <td>[0, 3)</td>\n",
       "      <td>0</td>\n",
       "    </tr>\n",
       "    <tr>\n",
       "      <th>1</th>\n",
       "      <td>2018-09-15</td>\n",
       "      <td>[3, 6)</td>\n",
       "      <td>0</td>\n",
       "    </tr>\n",
       "    <tr>\n",
       "      <th>2</th>\n",
       "      <td>2018-09-15</td>\n",
       "      <td>[6, 9)</td>\n",
       "      <td>1</td>\n",
       "    </tr>\n",
       "    <tr>\n",
       "      <th>3</th>\n",
       "      <td>2018-09-15</td>\n",
       "      <td>[9, 12)</td>\n",
       "      <td>1</td>\n",
       "    </tr>\n",
       "    <tr>\n",
       "      <th>4</th>\n",
       "      <td>2018-09-15</td>\n",
       "      <td>[12, 15)</td>\n",
       "      <td>0</td>\n",
       "    </tr>\n",
       "    <tr>\n",
       "      <th>...</th>\n",
       "      <td>...</td>\n",
       "      <td>...</td>\n",
       "      <td>...</td>\n",
       "    </tr>\n",
       "    <tr>\n",
       "      <th>8155</th>\n",
       "      <td>2021-06-30</td>\n",
       "      <td>[9, 12)</td>\n",
       "      <td>3</td>\n",
       "    </tr>\n",
       "    <tr>\n",
       "      <th>8156</th>\n",
       "      <td>2021-06-30</td>\n",
       "      <td>[12, 15)</td>\n",
       "      <td>3</td>\n",
       "    </tr>\n",
       "    <tr>\n",
       "      <th>8157</th>\n",
       "      <td>2021-06-30</td>\n",
       "      <td>[15, 18)</td>\n",
       "      <td>3</td>\n",
       "    </tr>\n",
       "    <tr>\n",
       "      <th>8158</th>\n",
       "      <td>2021-06-30</td>\n",
       "      <td>[18, 21)</td>\n",
       "      <td>3</td>\n",
       "    </tr>\n",
       "    <tr>\n",
       "      <th>8159</th>\n",
       "      <td>2021-06-30</td>\n",
       "      <td>[21, 24)</td>\n",
       "      <td>3</td>\n",
       "    </tr>\n",
       "  </tbody>\n",
       "</table>\n",
       "<p>8160 rows × 3 columns</p>\n",
       "</div>"
      ],
      "text/plain": [
       "            date time_interval  duration\n",
       "0     2018-09-15        [0, 3)         0\n",
       "1     2018-09-15        [3, 6)         0\n",
       "2     2018-09-15        [6, 9)         1\n",
       "3     2018-09-15       [9, 12)         1\n",
       "4     2018-09-15      [12, 15)         0\n",
       "...          ...           ...       ...\n",
       "8155  2021-06-30       [9, 12)         3\n",
       "8156  2021-06-30      [12, 15)         3\n",
       "8157  2021-06-30      [15, 18)         3\n",
       "8158  2021-06-30      [18, 21)         3\n",
       "8159  2021-06-30      [21, 24)         3\n",
       "\n",
       "[8160 rows x 3 columns]"
      ]
     },
     "execution_count": 718,
     "metadata": {},
     "output_type": "execute_result"
    }
   ],
   "source": [
    "df2 = edinburgh_bikes_df[['date','time','duration']].groupby(['date','time']).count().reset_index()\n",
    "df2['time_interval'] = pd.cut(df2['time'],[0,3,6,9,12,15,18,21,24],right=False)\n",
    "df2 = df2.groupby(['date','time_interval'])['duration'].count().reset_index()\n",
    "df2"
   ]
  },
  {
   "cell_type": "markdown",
   "id": "66495215",
   "metadata": {},
   "source": [
    "Both data sets are prepared and now i can merge them using the .merge () function."
   ]
  },
  {
   "cell_type": "code",
   "execution_count": 719,
   "id": "57f79bb4",
   "metadata": {
    "scrolled": true
   },
   "outputs": [
    {
     "data": {
      "text/html": [
       "<div>\n",
       "<style scoped>\n",
       "    .dataframe tbody tr th:only-of-type {\n",
       "        vertical-align: middle;\n",
       "    }\n",
       "\n",
       "    .dataframe tbody tr th {\n",
       "        vertical-align: top;\n",
       "    }\n",
       "\n",
       "    .dataframe thead th {\n",
       "        text-align: right;\n",
       "    }\n",
       "</style>\n",
       "<table border=\"1\" class=\"dataframe\">\n",
       "  <thead>\n",
       "    <tr style=\"text-align: right;\">\n",
       "      <th></th>\n",
       "      <th>temp[°c]</th>\n",
       "      <th>feels[°c]</th>\n",
       "      <th>wind[km/h]</th>\n",
       "      <th>gust[km/h]</th>\n",
       "      <th>rain[mm]</th>\n",
       "      <th>humidity[%]</th>\n",
       "      <th>cloud[%]</th>\n",
       "      <th>pressure[mb]</th>\n",
       "      <th>vis</th>\n",
       "      <th>date</th>\n",
       "      <th>time_interval</th>\n",
       "      <th>duration</th>\n",
       "    </tr>\n",
       "  </thead>\n",
       "  <tbody>\n",
       "    <tr>\n",
       "      <th>0</th>\n",
       "      <td>7</td>\n",
       "      <td>4</td>\n",
       "      <td>14</td>\n",
       "      <td>26</td>\n",
       "      <td>0.0</td>\n",
       "      <td>92</td>\n",
       "      <td>14</td>\n",
       "      <td>1016</td>\n",
       "      <td>Excellent</td>\n",
       "      <td>2018-09-15</td>\n",
       "      <td>[0, 3)</td>\n",
       "      <td>0</td>\n",
       "    </tr>\n",
       "    <tr>\n",
       "      <th>1</th>\n",
       "      <td>7</td>\n",
       "      <td>4</td>\n",
       "      <td>14</td>\n",
       "      <td>27</td>\n",
       "      <td>0.0</td>\n",
       "      <td>92</td>\n",
       "      <td>19</td>\n",
       "      <td>1017</td>\n",
       "      <td>Excellent</td>\n",
       "      <td>2018-09-15</td>\n",
       "      <td>[3, 6)</td>\n",
       "      <td>0</td>\n",
       "    </tr>\n",
       "    <tr>\n",
       "      <th>2</th>\n",
       "      <td>8</td>\n",
       "      <td>6</td>\n",
       "      <td>13</td>\n",
       "      <td>22</td>\n",
       "      <td>0.0</td>\n",
       "      <td>91</td>\n",
       "      <td>100</td>\n",
       "      <td>1018</td>\n",
       "      <td>Excellent</td>\n",
       "      <td>2018-09-15</td>\n",
       "      <td>[6, 9)</td>\n",
       "      <td>1</td>\n",
       "    </tr>\n",
       "    <tr>\n",
       "      <th>3</th>\n",
       "      <td>10</td>\n",
       "      <td>8</td>\n",
       "      <td>16</td>\n",
       "      <td>23</td>\n",
       "      <td>0.0</td>\n",
       "      <td>80</td>\n",
       "      <td>60</td>\n",
       "      <td>1019</td>\n",
       "      <td>Excellent</td>\n",
       "      <td>2018-09-15</td>\n",
       "      <td>[9, 12)</td>\n",
       "      <td>1</td>\n",
       "    </tr>\n",
       "    <tr>\n",
       "      <th>4</th>\n",
       "      <td>14</td>\n",
       "      <td>12</td>\n",
       "      <td>17</td>\n",
       "      <td>21</td>\n",
       "      <td>0.0</td>\n",
       "      <td>65</td>\n",
       "      <td>43</td>\n",
       "      <td>1019</td>\n",
       "      <td>Excellent</td>\n",
       "      <td>2018-09-15</td>\n",
       "      <td>[12, 15)</td>\n",
       "      <td>0</td>\n",
       "    </tr>\n",
       "    <tr>\n",
       "      <th>...</th>\n",
       "      <td>...</td>\n",
       "      <td>...</td>\n",
       "      <td>...</td>\n",
       "      <td>...</td>\n",
       "      <td>...</td>\n",
       "      <td>...</td>\n",
       "      <td>...</td>\n",
       "      <td>...</td>\n",
       "      <td>...</td>\n",
       "      <td>...</td>\n",
       "      <td>...</td>\n",
       "      <td>...</td>\n",
       "    </tr>\n",
       "    <tr>\n",
       "      <th>6219</th>\n",
       "      <td>14</td>\n",
       "      <td>12</td>\n",
       "      <td>21</td>\n",
       "      <td>33</td>\n",
       "      <td>0.4</td>\n",
       "      <td>86</td>\n",
       "      <td>100</td>\n",
       "      <td>993</td>\n",
       "      <td>Poor</td>\n",
       "      <td>2020-10-31</td>\n",
       "      <td>[9, 12)</td>\n",
       "      <td>3</td>\n",
       "    </tr>\n",
       "    <tr>\n",
       "      <th>6220</th>\n",
       "      <td>14</td>\n",
       "      <td>12</td>\n",
       "      <td>24</td>\n",
       "      <td>37</td>\n",
       "      <td>0.4</td>\n",
       "      <td>88</td>\n",
       "      <td>94</td>\n",
       "      <td>987</td>\n",
       "      <td>Poor</td>\n",
       "      <td>2020-10-31</td>\n",
       "      <td>[12, 15)</td>\n",
       "      <td>3</td>\n",
       "    </tr>\n",
       "    <tr>\n",
       "      <th>6221</th>\n",
       "      <td>10</td>\n",
       "      <td>6</td>\n",
       "      <td>42</td>\n",
       "      <td>55</td>\n",
       "      <td>0.5</td>\n",
       "      <td>75</td>\n",
       "      <td>100</td>\n",
       "      <td>989</td>\n",
       "      <td>Excellent</td>\n",
       "      <td>2020-10-31</td>\n",
       "      <td>[15, 18)</td>\n",
       "      <td>3</td>\n",
       "    </tr>\n",
       "    <tr>\n",
       "      <th>6222</th>\n",
       "      <td>9</td>\n",
       "      <td>5</td>\n",
       "      <td>38</td>\n",
       "      <td>54</td>\n",
       "      <td>0.0</td>\n",
       "      <td>76</td>\n",
       "      <td>79</td>\n",
       "      <td>994</td>\n",
       "      <td>Excellent</td>\n",
       "      <td>2020-10-31</td>\n",
       "      <td>[18, 21)</td>\n",
       "      <td>3</td>\n",
       "    </tr>\n",
       "    <tr>\n",
       "      <th>6223</th>\n",
       "      <td>8</td>\n",
       "      <td>4</td>\n",
       "      <td>36</td>\n",
       "      <td>49</td>\n",
       "      <td>0.1</td>\n",
       "      <td>74</td>\n",
       "      <td>79</td>\n",
       "      <td>997</td>\n",
       "      <td>Excellent</td>\n",
       "      <td>2020-10-31</td>\n",
       "      <td>[21, 24)</td>\n",
       "      <td>3</td>\n",
       "    </tr>\n",
       "  </tbody>\n",
       "</table>\n",
       "<p>6224 rows × 12 columns</p>\n",
       "</div>"
      ],
      "text/plain": [
       "      temp[°c]  feels[°c]  wind[km/h]  gust[km/h]  rain[mm]  humidity[%]  \\\n",
       "0            7          4          14          26       0.0           92   \n",
       "1            7          4          14          27       0.0           92   \n",
       "2            8          6          13          22       0.0           91   \n",
       "3           10          8          16          23       0.0           80   \n",
       "4           14         12          17          21       0.0           65   \n",
       "...        ...        ...         ...         ...       ...          ...   \n",
       "6219        14         12          21          33       0.4           86   \n",
       "6220        14         12          24          37       0.4           88   \n",
       "6221        10          6          42          55       0.5           75   \n",
       "6222         9          5          38          54       0.0           76   \n",
       "6223         8          4          36          49       0.1           74   \n",
       "\n",
       "      cloud[%]  pressure[mb]        vis        date time_interval  duration  \n",
       "0           14          1016  Excellent  2018-09-15        [0, 3)         0  \n",
       "1           19          1017  Excellent  2018-09-15        [3, 6)         0  \n",
       "2          100          1018  Excellent  2018-09-15        [6, 9)         1  \n",
       "3           60          1019  Excellent  2018-09-15       [9, 12)         1  \n",
       "4           43          1019  Excellent  2018-09-15      [12, 15)         0  \n",
       "...        ...           ...        ...         ...           ...       ...  \n",
       "6219       100           993       Poor  2020-10-31       [9, 12)         3  \n",
       "6220        94           987       Poor  2020-10-31      [12, 15)         3  \n",
       "6221       100           989  Excellent  2020-10-31      [15, 18)         3  \n",
       "6222        79           994  Excellent  2020-10-31      [18, 21)         3  \n",
       "6223        79           997  Excellent  2020-10-31      [21, 24)         3  \n",
       "\n",
       "[6224 rows x 12 columns]"
      ]
     },
     "execution_count": 719,
     "metadata": {},
     "output_type": "execute_result"
    }
   ],
   "source": [
    "df = pd.merge(df1,df2,how='inner', on=('date','time_interval'))\n",
    "df"
   ]
  },
  {
   "cell_type": "markdown",
   "id": "9a42ff6f",
   "metadata": {},
   "source": [
    "Creating a function that creates a new DataFrame for the specified column from the dataset. The new df will have two columns. The column that was entered into the function (eg. temp [° c]) and in the second column will be the average number of lend bikess for each value from the specified column."
   ]
  },
  {
   "cell_type": "code",
   "execution_count": 720,
   "id": "694362e0",
   "metadata": {},
   "outputs": [],
   "source": [
    "def df_by_column(column):\n",
    "    df_new = (df\n",
    "              .groupby(['date','time_interval'])\n",
    "              .agg({'duration':lambda x: x.sum() / 3,column:'mean'})\n",
    "              .reset_index()\n",
    "              .groupby(column)\n",
    "              ['duration'].mean()\n",
    "              .reset_index()\n",
    "             )\n",
    "    return df_new"
   ]
  },
  {
   "cell_type": "markdown",
   "id": "4cf69461",
   "metadata": {},
   "source": [
    "I will now use the created dataset and function to create charts that will show the effect of each quantity on the demand for wheels. All chartss will be scatter except for the chart showing the effect of visibility on demand. Visiblity is specified categorically in the dataset and cannot be averaged. Therefore, I use a bar graph for this quantity."
   ]
  },
  {
   "cell_type": "code",
   "execution_count": 721,
   "id": "9a7f8662",
   "metadata": {
    "scrolled": true
   },
   "outputs": [
    {
     "data": {
      "image/png": "[encoded data removed]",
      "text/plain": [
       "<Figure size 1152x720 with 9 Axes>"
      ]
     },
     "metadata": {
      "needs_background": "light"
     },
     "output_type": "display_data"
    }
   ],
   "source": [
    "list = ['temp[°c]','feels[°c]','wind[km/h]','gust[km/h]','humidity[%]','cloud[%]','pressure[mb]','rain[mm]']\n",
    "i = 0\n",
    "j = 0\n",
    "\n",
    "fig = plt.figure(figsize=(16,10))\n",
    "fig.suptitle('Influence of weather on demand', fontsize=16)\n",
    "\n",
    "for n in list:\n",
    "    ax = plt.subplot2grid((3,3), (j,i), fig=fig)\n",
    "    ax.scatter(df_by_column(n)[n], df_by_column(n)['duration'])\n",
    "    ax.set_xlabel(n)\n",
    "    ax.set_ylabel('average value of bike lends by hour')\n",
    "    ax.grid()\n",
    "    i += 1\n",
    "    if i > 2:\n",
    "        i = 0\n",
    "        j += 1\n",
    "\n",
    "df_vis = df.groupby('vis').agg({'duration': lambda x: x.mean() / 3,}).reset_index()\n",
    "ax = plt.subplot2grid((3,3), (2,2), fig=fig)\n",
    "ax.bar(df_vis['vis'], df_vis['duration'])\n",
    "ax.set_xlabel('visibility')\n",
    "\n",
    "plt.tight_layout()\n",
    "plt.show()"
   ]
  },
  {
   "cell_type": "markdown",
   "id": "26b931b2",
   "metadata": {},
   "source": [
    "From the charts shown above, the effect of weather on demand can be identified.\n",
    "\n",
    "Temperature - As the temperature increases, so does demand. At higher temperatures (25 ° C and more) the demand is lower.\n",
    "\n",
    "Wind - At wind speeds greater than 20 km / h, the demand for bicycles begins to decline. The chart also shows a higher value of the demand for bicycles at a wind speed of around 50 km / h. However, this may be related to the fact that we only have weather data at intervals of three hours and this distorts the results.\n",
    "\n",
    "Gust - As the gust always lasts only a few seconds, it should have no effect on demand. However, a similar course can be seen from the chart as in the wind.\n",
    "\n",
    "Humidity - The lower the humidity, the greater the demand for bikes.\n",
    "\n",
    "Clouds - Clouds according to the chart do not affect demand\n",
    "\n",
    "Pressure - The greatest demand for wheels is at a pressure of around 1020 mb. If the pressure increases or decreases, demand decreases.\n",
    "\n",
    "Rain - This chart shows the declining demand as the value of rain increases. Since we only have weather data at three-hour intervals, this shows us higher demand for bicycles even in the rain. But that doesn't mean people rent bikes in the rain. For example, it may rain for only one hour in three hours, and the other two may be sunny, so the demand for bicycles may be greater.\n",
    "\n",
    "Visibility - the greatest demand for bikes is in excellent visibility and the lowest in poor visibility, whichs can be expected. Demand with average and good visibility is no longer so expected. The charts show that people rent bikes more often with average visibility than with good visibility. This may again be due to limited weather data\n",
    "\n",
    "From the charts shown above, it can be said that the weather affects the demand for bicycles."
   ]
  },
  {
   "cell_type": "markdown",
   "id": "b29fd4d4",
   "metadata": {},
   "source": [
    "# 9) Demand for bike lending by the days of week and  the months"
   ]
  },
  {
   "cell_type": "markdown",
   "id": "848f801a",
   "metadata": {},
   "source": [
    "I will use a heatmap to find out the demand for rent bikes by month and day of the week. First, I will select only the years 2019 and 2020 from the dataset 'edinburgh_bikes_df', as these are the only years when the service was been in operation all year."
   ]
  },
  {
   "cell_type": "code",
   "execution_count": 722,
   "id": "745086a3",
   "metadata": {},
   "outputs": [
    {
     "data": {
      "text/html": [
       "<div>\n",
       "<style scoped>\n",
       "    .dataframe tbody tr th:only-of-type {\n",
       "        vertical-align: middle;\n",
       "    }\n",
       "\n",
       "    .dataframe tbody tr th {\n",
       "        vertical-align: top;\n",
       "    }\n",
       "\n",
       "    .dataframe thead th {\n",
       "        text-align: right;\n",
       "    }\n",
       "</style>\n",
       "<table border=\"1\" class=\"dataframe\">\n",
       "  <thead>\n",
       "    <tr style=\"text-align: right;\">\n",
       "      <th></th>\n",
       "      <th>duration</th>\n",
       "      <th>date</th>\n",
       "      <th>year</th>\n",
       "      <th>month</th>\n",
       "      <th>day_of_week</th>\n",
       "    </tr>\n",
       "  </thead>\n",
       "  <tbody>\n",
       "    <tr>\n",
       "      <th>15091</th>\n",
       "      <td>6.150000</td>\n",
       "      <td>2019-01-07</td>\n",
       "      <td>2019</td>\n",
       "      <td>1</td>\n",
       "      <td>0</td>\n",
       "    </tr>\n",
       "    <tr>\n",
       "      <th>15092</th>\n",
       "      <td>15.283333</td>\n",
       "      <td>2019-01-07</td>\n",
       "      <td>2019</td>\n",
       "      <td>1</td>\n",
       "      <td>0</td>\n",
       "    </tr>\n",
       "    <tr>\n",
       "      <th>15093</th>\n",
       "      <td>3.250000</td>\n",
       "      <td>2019-01-07</td>\n",
       "      <td>2019</td>\n",
       "      <td>1</td>\n",
       "      <td>0</td>\n",
       "    </tr>\n",
       "    <tr>\n",
       "      <th>15094</th>\n",
       "      <td>28.166667</td>\n",
       "      <td>2019-01-07</td>\n",
       "      <td>2019</td>\n",
       "      <td>1</td>\n",
       "      <td>0</td>\n",
       "    </tr>\n",
       "    <tr>\n",
       "      <th>15095</th>\n",
       "      <td>2271.650000</td>\n",
       "      <td>2019-01-07</td>\n",
       "      <td>2019</td>\n",
       "      <td>1</td>\n",
       "      <td>0</td>\n",
       "    </tr>\n",
       "    <tr>\n",
       "      <th>...</th>\n",
       "      <td>...</td>\n",
       "      <td>...</td>\n",
       "      <td>...</td>\n",
       "      <td>...</td>\n",
       "      <td>...</td>\n",
       "    </tr>\n",
       "    <tr>\n",
       "      <th>373362</th>\n",
       "      <td>4.733333</td>\n",
       "      <td>2020-12-27</td>\n",
       "      <td>2020</td>\n",
       "      <td>12</td>\n",
       "      <td>6</td>\n",
       "    </tr>\n",
       "    <tr>\n",
       "      <th>373363</th>\n",
       "      <td>13.550000</td>\n",
       "      <td>2020-12-27</td>\n",
       "      <td>2020</td>\n",
       "      <td>12</td>\n",
       "      <td>6</td>\n",
       "    </tr>\n",
       "    <tr>\n",
       "      <th>373364</th>\n",
       "      <td>11.250000</td>\n",
       "      <td>2020-12-27</td>\n",
       "      <td>2020</td>\n",
       "      <td>12</td>\n",
       "      <td>6</td>\n",
       "    </tr>\n",
       "    <tr>\n",
       "      <th>373365</th>\n",
       "      <td>8.450000</td>\n",
       "      <td>2020-12-27</td>\n",
       "      <td>2020</td>\n",
       "      <td>12</td>\n",
       "      <td>6</td>\n",
       "    </tr>\n",
       "    <tr>\n",
       "      <th>373366</th>\n",
       "      <td>8.016667</td>\n",
       "      <td>2020-12-27</td>\n",
       "      <td>2020</td>\n",
       "      <td>12</td>\n",
       "      <td>6</td>\n",
       "    </tr>\n",
       "  </tbody>\n",
       "</table>\n",
       "<p>359615 rows × 5 columns</p>\n",
       "</div>"
      ],
      "text/plain": [
       "           duration        date  year  month  day_of_week\n",
       "15091      6.150000  2019-01-07  2019      1            0\n",
       "15092     15.283333  2019-01-07  2019      1            0\n",
       "15093      3.250000  2019-01-07  2019      1            0\n",
       "15094     28.166667  2019-01-07  2019      1            0\n",
       "15095   2271.650000  2019-01-07  2019      1            0\n",
       "...             ...         ...   ...    ...          ...\n",
       "373362     4.733333  2020-12-27  2020     12            6\n",
       "373363    13.550000  2020-12-27  2020     12            6\n",
       "373364    11.250000  2020-12-27  2020     12            6\n",
       "373365     8.450000  2020-12-27  2020     12            6\n",
       "373366     8.016667  2020-12-27  2020     12            6\n",
       "\n",
       "[359615 rows x 5 columns]"
      ]
     },
     "execution_count": 722,
     "metadata": {},
     "output_type": "execute_result"
    }
   ],
   "source": [
    "df = edinburgh_bikes_df[['duration','date','year','month','day_of_week']]\n",
    "df = df.query('(year > 2018 and year < 2021)').sort_values(['month','day_of_week'])\n",
    "df"
   ]
  },
  {
   "cell_type": "markdown",
   "id": "f0118b6e",
   "metadata": {},
   "source": [
    "I will group the data by month and day of the week and calculate the number of bikes rented. Then I convert the table to a pivot table from which a heatmap can be created. The months and days of the week were recorded numerically so that they could be sorted correctly, so I have to convert them to their names."
   ]
  },
  {
   "cell_type": "code",
   "execution_count": 723,
   "id": "0aecf3f0",
   "metadata": {
    "scrolled": true
   },
   "outputs": [
    {
     "data": {
      "text/html": [
       "<div>\n",
       "<style scoped>\n",
       "    .dataframe tbody tr th:only-of-type {\n",
       "        vertical-align: middle;\n",
       "    }\n",
       "\n",
       "    .dataframe tbody tr th {\n",
       "        vertical-align: top;\n",
       "    }\n",
       "\n",
       "    .dataframe thead th {\n",
       "        text-align: right;\n",
       "    }\n",
       "</style>\n",
       "<table border=\"1\" class=\"dataframe\">\n",
       "  <thead>\n",
       "    <tr style=\"text-align: right;\">\n",
       "      <th>day_of_week</th>\n",
       "      <th>Monday</th>\n",
       "      <th>Tuesday</th>\n",
       "      <th>Wendesday</th>\n",
       "      <th>Thruesday</th>\n",
       "      <th>Friday</th>\n",
       "      <th>Saturday</th>\n",
       "      <th>Sunday</th>\n",
       "    </tr>\n",
       "    <tr>\n",
       "      <th>month</th>\n",
       "      <th></th>\n",
       "      <th></th>\n",
       "      <th></th>\n",
       "      <th></th>\n",
       "      <th></th>\n",
       "      <th></th>\n",
       "      <th></th>\n",
       "    </tr>\n",
       "  </thead>\n",
       "  <tbody>\n",
       "    <tr>\n",
       "      <th>January</th>\n",
       "      <td>1911</td>\n",
       "      <td>2176</td>\n",
       "      <td>2388</td>\n",
       "      <td>2421</td>\n",
       "      <td>2488</td>\n",
       "      <td>1736</td>\n",
       "      <td>1678</td>\n",
       "    </tr>\n",
       "    <tr>\n",
       "      <th>February</th>\n",
       "      <td>1695</td>\n",
       "      <td>2027</td>\n",
       "      <td>2210</td>\n",
       "      <td>2336</td>\n",
       "      <td>2023</td>\n",
       "      <td>1841</td>\n",
       "      <td>1504</td>\n",
       "    </tr>\n",
       "    <tr>\n",
       "      <th>March</th>\n",
       "      <td>2661</td>\n",
       "      <td>2795</td>\n",
       "      <td>2548</td>\n",
       "      <td>2800</td>\n",
       "      <td>2684</td>\n",
       "      <td>2467</td>\n",
       "      <td>3104</td>\n",
       "    </tr>\n",
       "    <tr>\n",
       "      <th>April</th>\n",
       "      <td>3227</td>\n",
       "      <td>3044</td>\n",
       "      <td>3036</td>\n",
       "      <td>2368</td>\n",
       "      <td>2816</td>\n",
       "      <td>3756</td>\n",
       "      <td>4100</td>\n",
       "    </tr>\n",
       "    <tr>\n",
       "      <th>May</th>\n",
       "      <td>5601</td>\n",
       "      <td>5256</td>\n",
       "      <td>6540</td>\n",
       "      <td>5840</td>\n",
       "      <td>7295</td>\n",
       "      <td>7841</td>\n",
       "      <td>7435</td>\n",
       "    </tr>\n",
       "    <tr>\n",
       "      <th>June</th>\n",
       "      <td>5885</td>\n",
       "      <td>6128</td>\n",
       "      <td>5299</td>\n",
       "      <td>5803</td>\n",
       "      <td>4692</td>\n",
       "      <td>7300</td>\n",
       "      <td>6054</td>\n",
       "    </tr>\n",
       "    <tr>\n",
       "      <th>July</th>\n",
       "      <td>5491</td>\n",
       "      <td>6504</td>\n",
       "      <td>6038</td>\n",
       "      <td>6295</td>\n",
       "      <td>6731</td>\n",
       "      <td>6608</td>\n",
       "      <td>6305</td>\n",
       "    </tr>\n",
       "    <tr>\n",
       "      <th>August</th>\n",
       "      <td>6633</td>\n",
       "      <td>4199</td>\n",
       "      <td>5650</td>\n",
       "      <td>6908</td>\n",
       "      <td>6496</td>\n",
       "      <td>9756</td>\n",
       "      <td>7938</td>\n",
       "    </tr>\n",
       "    <tr>\n",
       "      <th>September</th>\n",
       "      <td>5224</td>\n",
       "      <td>5912</td>\n",
       "      <td>5334</td>\n",
       "      <td>5260</td>\n",
       "      <td>5379</td>\n",
       "      <td>6422</td>\n",
       "      <td>6429</td>\n",
       "    </tr>\n",
       "    <tr>\n",
       "      <th>October</th>\n",
       "      <td>3817</td>\n",
       "      <td>4570</td>\n",
       "      <td>4981</td>\n",
       "      <td>5360</td>\n",
       "      <td>5449</td>\n",
       "      <td>4275</td>\n",
       "      <td>4430</td>\n",
       "    </tr>\n",
       "    <tr>\n",
       "      <th>November</th>\n",
       "      <td>3183</td>\n",
       "      <td>3349</td>\n",
       "      <td>3370</td>\n",
       "      <td>3530</td>\n",
       "      <td>3914</td>\n",
       "      <td>3281</td>\n",
       "      <td>3034</td>\n",
       "    </tr>\n",
       "    <tr>\n",
       "      <th>December</th>\n",
       "      <td>2099</td>\n",
       "      <td>2501</td>\n",
       "      <td>2257</td>\n",
       "      <td>2237</td>\n",
       "      <td>2042</td>\n",
       "      <td>1672</td>\n",
       "      <td>1943</td>\n",
       "    </tr>\n",
       "  </tbody>\n",
       "</table>\n",
       "</div>"
      ],
      "text/plain": [
       "day_of_week  Monday  Tuesday  Wendesday  Thruesday  Friday  Saturday  Sunday\n",
       "month                                                                       \n",
       "January        1911     2176       2388       2421    2488      1736    1678\n",
       "February       1695     2027       2210       2336    2023      1841    1504\n",
       "March          2661     2795       2548       2800    2684      2467    3104\n",
       "April          3227     3044       3036       2368    2816      3756    4100\n",
       "May            5601     5256       6540       5840    7295      7841    7435\n",
       "June           5885     6128       5299       5803    4692      7300    6054\n",
       "July           5491     6504       6038       6295    6731      6608    6305\n",
       "August         6633     4199       5650       6908    6496      9756    7938\n",
       "September      5224     5912       5334       5260    5379      6422    6429\n",
       "October        3817     4570       4981       5360    5449      4275    4430\n",
       "November       3183     3349       3370       3530    3914      3281    3034\n",
       "December       2099     2501       2257       2237    2042      1672    1943"
      ]
     },
     "execution_count": 723,
     "metadata": {},
     "output_type": "execute_result"
    }
   ],
   "source": [
    "df = df[['month','day_of_week','duration']].groupby(['month', 'day_of_week'])['duration'].count().reset_index()\n",
    "\n",
    "df_pivot = df.pivot(index='month', columns='day_of_week', values='duration')\n",
    "\n",
    "df_pivot.rename(index={1:'January',\n",
    "                       2:'February',\n",
    "                       3:'March', \n",
    "                       4:'April',\n",
    "                       5:'May',\n",
    "                       6:'June',\n",
    "                       7:'July',\n",
    "                       8:'August',\n",
    "                       9:'September',\n",
    "                       10:'October',\n",
    "                       11:'November',\n",
    "                       12:'December'},\n",
    "                inplace=True)\n",
    "\n",
    "df_pivot.rename(columns={0:'Monday',\n",
    "                         1:'Tuesday',\n",
    "                         2:'Wendesday',\n",
    "                         3:'Thruesday',\n",
    "                         4:'Friday',\n",
    "                         5:'Saturday',\n",
    "                         6:'Sunday'},\n",
    "                inplace=True)\n",
    "\n",
    "df_pivot"
   ]
  },
  {
   "cell_type": "markdown",
   "id": "106e15e6",
   "metadata": {},
   "source": [
    "The data is ready and it is possible to create a heatmap. From the heatmap it is legible in which months and days of the week the demand is greatest.\n",
    "\n",
    "At first glance, the heatmap shows that the greatest demand for bicycles is in the months of May to September, when the best conditions for cycling are. During these months, bikes are rented more on weekends than on weekdays. While in the winter it is the other way around.\n",
    "\n",
    "It can therefore be said that in the warmer months bicycles are used more for recreational travel, while in the winter months the demand for bicycle rental is used mainly for travel for work, school etc."
   ]
  },
  {
   "cell_type": "code",
   "execution_count": 724,
   "id": "e0c6fedc",
   "metadata": {},
   "outputs": [
    {
     "data": {
      "image/png": "[encoded data removed]",
      "text/plain": [
       "<Figure size 1152x576 with 2 Axes>"
      ]
     },
     "metadata": {
      "needs_background": "light"
     },
     "output_type": "display_data"
    }
   ],
   "source": [
    "fig, ax = plt.subplots(figsize=(16,8))\n",
    "sns.heatmap(df_pivot, annot=True, ax=ax, fmt='d', cmap=sns.cm.rocket_r, linewidths=.5)\n",
    "ax.set_title('Demand for lending in 2019-2020', fontsize=16)\n",
    "ax.set_xticklabels(ax.get_xticklabels(), rotation=45, ha='right')\n",
    "plt.show()"
   ]
  }
 ],
 "metadata": {
  "kernelspec": {
   "display_name": "Python 3 (ipykernel)",
   "language": "python",
   "name": "python3"
  },
  "language_info": {
   "codemirror_mode": {
    "name": "ipython",
    "version": 3
   },
   "file_extension": ".py",
   "mimetype": "text/x-python",
   "name": "python",
   "nbconvert_exporter": "python",
   "pygments_lexer": "ipython3",
   "version": "3.10.4"
  }
 },
 "nbformat": 4,
 "nbformat_minor": 5
}
